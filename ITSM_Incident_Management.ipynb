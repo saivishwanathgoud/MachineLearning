{
  "nbformat": 4,
  "nbformat_minor": 0,
  "metadata": {
    "colab": {
      "name": "ITSM_Incident_Management.ipynb",
      "provenance": [],
      "collapsed_sections": [],
      "authorship_tag": "ABX9TyMO+pebi4MonZ6LmYjAX/l6",
      "include_colab_link": true
    },
    "kernelspec": {
      "name": "python3",
      "display_name": "Python 3"
    }
  },
  "cells": [
    {
      "cell_type": "markdown",
      "metadata": {
        "id": "view-in-github",
        "colab_type": "text"
      },
      "source": [
        "<a href=\"https://colab.research.google.com/github/saivishwanathgoud/MachineLearning/blob/master/ITSM_Incident_Management.ipynb\" target=\"_parent\"><img src=\"https://colab.research.google.com/assets/colab-badge.svg\" alt=\"Open In Colab\"/></a>"
      ]
    },
    {
      "cell_type": "markdown",
      "metadata": {
        "id": "yDWt50D1ysWQ",
        "colab_type": "text"
      },
      "source": [
        "# **ITSM Incident Analysis**\n",
        "\n",
        "1. Predicting Priorities: The predictor variables are Category, CI Category, CI Subcategory & WBS\n",
        "2. Predicting Request for Change (RFC): The predictor variables are Category, CI Subcategory, WBS, Priority, Number of Related Interaction, Number of Related Incidents\n",
        "3. Forecasting the Incident Volume: The predictor variable is opening time."
      ]
    },
    {
      "cell_type": "code",
      "metadata": {
        "id": "r2KIkpbMHZPE",
        "colab_type": "code",
        "colab": {
          "base_uri": "https://localhost:8080/",
          "height": 102
        },
        "outputId": "dd538b7a-6a14-4648-f236-cdba1b67a44b"
      },
      "source": [
        "#importing the required libraries \n",
        "import pandas as pd\n",
        "import numpy as np\n",
        "import datetime as dt\n",
        "import matplotlib.pyplot as plt\n",
        "from sklearn.preprocessing import LabelEncoder, StandardScaler\n",
        "from sklearn.model_selection import train_test_split\n",
        "from sklearn.metrics import accuracy_score, classification_report, confusion_matrix\n",
        "import itertools\n",
        "import statsmodels.api as sm\n",
        "from sklearn.externals import joblib\n",
        "import warnings\n",
        "warnings.filterwarnings('ignore')"
      ],
      "execution_count": 1,
      "outputs": [
        {
          "output_type": "stream",
          "text": [
            "/usr/local/lib/python3.6/dist-packages/statsmodels/tools/_testing.py:19: FutureWarning: pandas.util.testing is deprecated. Use the functions in the public API at pandas.testing instead.\n",
            "  import pandas.util.testing as tm\n",
            "/usr/local/lib/python3.6/dist-packages/sklearn/externals/joblib/__init__.py:15: FutureWarning: sklearn.externals.joblib is deprecated in 0.21 and will be removed in 0.23. Please import this functionality directly from joblib, which can be installed with: pip install joblib. If this warning is raised when loading pickled models, you may need to re-serialize those models with scikit-learn 0.21+.\n",
            "  warnings.warn(msg, category=FutureWarning)\n"
          ],
          "name": "stderr"
        }
      ]
    },
    {
      "cell_type": "code",
      "metadata": {
        "id": "IsYyvAF_NAx2",
        "colab_type": "code",
        "colab": {
          "base_uri": "https://localhost:8080/",
          "height": 373
        },
        "outputId": "791339a4-5cf2-485c-8d38-458203674e83"
      },
      "source": [
        "#importing data into pandas dataframe \n",
        "df = pd.read_csv('ITSM_data.txt')\n",
        "df.head()"
      ],
      "execution_count": 2,
      "outputs": [
        {
          "output_type": "execute_result",
          "data": {
            "text/html": [
              "<div>\n",
              "<style scoped>\n",
              "    .dataframe tbody tr th:only-of-type {\n",
              "        vertical-align: middle;\n",
              "    }\n",
              "\n",
              "    .dataframe tbody tr th {\n",
              "        vertical-align: top;\n",
              "    }\n",
              "\n",
              "    .dataframe thead th {\n",
              "        text-align: right;\n",
              "    }\n",
              "</style>\n",
              "<table border=\"1\" class=\"dataframe\">\n",
              "  <thead>\n",
              "    <tr style=\"text-align: right;\">\n",
              "      <th></th>\n",
              "      <th>CI_Name</th>\n",
              "      <th>CI_Cat</th>\n",
              "      <th>CI_Subcat</th>\n",
              "      <th>WBS</th>\n",
              "      <th>Incident_ID</th>\n",
              "      <th>Status</th>\n",
              "      <th>Impact</th>\n",
              "      <th>Urgency</th>\n",
              "      <th>Priority</th>\n",
              "      <th>number_cnt</th>\n",
              "      <th>Category</th>\n",
              "      <th>KB_number</th>\n",
              "      <th>Alert_Status</th>\n",
              "      <th>No_of_Reassignments</th>\n",
              "      <th>Open_Time</th>\n",
              "      <th>Reopen_Time</th>\n",
              "      <th>Resolved_Time</th>\n",
              "      <th>Close_Time</th>\n",
              "      <th>Handle_Time_hrs</th>\n",
              "      <th>Closure_Code</th>\n",
              "      <th>No_of_Related_Interactions</th>\n",
              "      <th>Related_Interaction</th>\n",
              "      <th>No_of_Related_Incidents</th>\n",
              "      <th>No_of_Related_Changes</th>\n",
              "      <th>Related_Change</th>\n",
              "    </tr>\n",
              "  </thead>\n",
              "  <tbody>\n",
              "    <tr>\n",
              "      <th>0</th>\n",
              "      <td>SUB000508</td>\n",
              "      <td>subapplication</td>\n",
              "      <td>Web Based Application</td>\n",
              "      <td>WBS000162</td>\n",
              "      <td>IM0000004</td>\n",
              "      <td>Closed</td>\n",
              "      <td>4</td>\n",
              "      <td>4</td>\n",
              "      <td>4.0</td>\n",
              "      <td>0.601292</td>\n",
              "      <td>incident</td>\n",
              "      <td>KM0000553</td>\n",
              "      <td>closed</td>\n",
              "      <td>26.0</td>\n",
              "      <td>5/2/2012 13:32</td>\n",
              "      <td>NaN</td>\n",
              "      <td>4/11/2013 13:50</td>\n",
              "      <td>4/11/2013 13:51</td>\n",
              "      <td>3,87,16,91,111</td>\n",
              "      <td>Other</td>\n",
              "      <td>1.0</td>\n",
              "      <td>SD0000007</td>\n",
              "      <td>2.0</td>\n",
              "      <td>NaN</td>\n",
              "      <td>NaN</td>\n",
              "    </tr>\n",
              "    <tr>\n",
              "      <th>1</th>\n",
              "      <td>WBA000124</td>\n",
              "      <td>application</td>\n",
              "      <td>Web Based Application</td>\n",
              "      <td>WBS000088</td>\n",
              "      <td>IM0000005</td>\n",
              "      <td>Closed</td>\n",
              "      <td>3</td>\n",
              "      <td>3</td>\n",
              "      <td>3.0</td>\n",
              "      <td>0.415050</td>\n",
              "      <td>incident</td>\n",
              "      <td>KM0000611</td>\n",
              "      <td>closed</td>\n",
              "      <td>33.0</td>\n",
              "      <td>12/3/2012 15:44</td>\n",
              "      <td>2/12/2013 12:31</td>\n",
              "      <td>2/12/2013 12:36</td>\n",
              "      <td>2/12/2013 12:36</td>\n",
              "      <td>4,35,47,86,389</td>\n",
              "      <td>Software</td>\n",
              "      <td>1.0</td>\n",
              "      <td>SD0000011</td>\n",
              "      <td>1.0</td>\n",
              "      <td>NaN</td>\n",
              "      <td>NaN</td>\n",
              "    </tr>\n",
              "    <tr>\n",
              "      <th>2</th>\n",
              "      <td>DTA000024</td>\n",
              "      <td>application</td>\n",
              "      <td>Desktop Application</td>\n",
              "      <td>WBS000092</td>\n",
              "      <td>IM0000006</td>\n",
              "      <td>Closed</td>\n",
              "      <td>NS</td>\n",
              "      <td>3</td>\n",
              "      <td>NaN</td>\n",
              "      <td>0.517551</td>\n",
              "      <td>request for information</td>\n",
              "      <td>KM0000339</td>\n",
              "      <td>closed</td>\n",
              "      <td>3.0</td>\n",
              "      <td>29-03-2012 12:36</td>\n",
              "      <td>NaN</td>\n",
              "      <td>13-01-2014 15:12</td>\n",
              "      <td>13-01-2014 15:13</td>\n",
              "      <td>4,84,31,19,444</td>\n",
              "      <td>No error - works as designed</td>\n",
              "      <td>1.0</td>\n",
              "      <td>SD0000017</td>\n",
              "      <td>NaN</td>\n",
              "      <td>NaN</td>\n",
              "      <td>NaN</td>\n",
              "    </tr>\n",
              "    <tr>\n",
              "      <th>3</th>\n",
              "      <td>WBA000124</td>\n",
              "      <td>application</td>\n",
              "      <td>Web Based Application</td>\n",
              "      <td>WBS000088</td>\n",
              "      <td>IM0000011</td>\n",
              "      <td>Closed</td>\n",
              "      <td>4</td>\n",
              "      <td>4</td>\n",
              "      <td>4.0</td>\n",
              "      <td>0.642927</td>\n",
              "      <td>incident</td>\n",
              "      <td>KM0000611</td>\n",
              "      <td>closed</td>\n",
              "      <td>13.0</td>\n",
              "      <td>17-07-2012 11:49</td>\n",
              "      <td>NaN</td>\n",
              "      <td>14-11-2013 09:31</td>\n",
              "      <td>14-11-2013 09:31</td>\n",
              "      <td>4,32,18,33,333</td>\n",
              "      <td>Operator error</td>\n",
              "      <td>1.0</td>\n",
              "      <td>SD0000025</td>\n",
              "      <td>NaN</td>\n",
              "      <td>NaN</td>\n",
              "      <td>NaN</td>\n",
              "    </tr>\n",
              "    <tr>\n",
              "      <th>4</th>\n",
              "      <td>WBA000124</td>\n",
              "      <td>application</td>\n",
              "      <td>Web Based Application</td>\n",
              "      <td>WBS000088</td>\n",
              "      <td>IM0000012</td>\n",
              "      <td>Closed</td>\n",
              "      <td>4</td>\n",
              "      <td>4</td>\n",
              "      <td>4.0</td>\n",
              "      <td>0.345258</td>\n",
              "      <td>incident</td>\n",
              "      <td>KM0000611</td>\n",
              "      <td>closed</td>\n",
              "      <td>2.0</td>\n",
              "      <td>10/8/2012 11:01</td>\n",
              "      <td>NaN</td>\n",
              "      <td>8/11/2013 13:55</td>\n",
              "      <td>8/11/2013 13:55</td>\n",
              "      <td>3,38,39,03,333</td>\n",
              "      <td>Other</td>\n",
              "      <td>1.0</td>\n",
              "      <td>SD0000029</td>\n",
              "      <td>NaN</td>\n",
              "      <td>NaN</td>\n",
              "      <td>NaN</td>\n",
              "    </tr>\n",
              "  </tbody>\n",
              "</table>\n",
              "</div>"
            ],
            "text/plain": [
              "     CI_Name          CI_Cat  ... No_of_Related_Changes Related_Change\n",
              "0  SUB000508  subapplication  ...                   NaN            NaN\n",
              "1  WBA000124     application  ...                   NaN            NaN\n",
              "2  DTA000024     application  ...                   NaN            NaN\n",
              "3  WBA000124     application  ...                   NaN            NaN\n",
              "4  WBA000124     application  ...                   NaN            NaN\n",
              "\n",
              "[5 rows x 25 columns]"
            ]
          },
          "metadata": {
            "tags": []
          },
          "execution_count": 2
        }
      ]
    },
    {
      "cell_type": "code",
      "metadata": {
        "id": "koblYmfZN0fP",
        "colab_type": "code",
        "colab": {
          "base_uri": "https://localhost:8080/",
          "height": 33
        },
        "outputId": "e7cc9e86-f67b-464a-8893-7637cf316788"
      },
      "source": [
        "#number of rows and columns in dataset\n",
        "df.shape"
      ],
      "execution_count": 3,
      "outputs": [
        {
          "output_type": "execute_result",
          "data": {
            "text/plain": [
              "(46606, 25)"
            ]
          },
          "metadata": {
            "tags": []
          },
          "execution_count": 3
        }
      ]
    },
    {
      "cell_type": "code",
      "metadata": {
        "id": "UD9xJpvaN9US",
        "colab_type": "code",
        "colab": {
          "base_uri": "https://localhost:8080/",
          "height": 131
        },
        "outputId": "6fa67649-9cea-42e5-b143-021cb2cc02c8"
      },
      "source": [
        "#checking the columns \n",
        "df.columns"
      ],
      "execution_count": 4,
      "outputs": [
        {
          "output_type": "execute_result",
          "data": {
            "text/plain": [
              "Index(['CI_Name', 'CI_Cat', 'CI_Subcat', 'WBS', 'Incident_ID', 'Status',\n",
              "       'Impact', 'Urgency', 'Priority', 'number_cnt', 'Category', 'KB_number',\n",
              "       'Alert_Status', 'No_of_Reassignments', 'Open_Time', 'Reopen_Time',\n",
              "       'Resolved_Time', 'Close_Time', 'Handle_Time_hrs', 'Closure_Code',\n",
              "       'No_of_Related_Interactions', 'Related_Interaction',\n",
              "       'No_of_Related_Incidents', 'No_of_Related_Changes', 'Related_Change'],\n",
              "      dtype='object')"
            ]
          },
          "metadata": {
            "tags": []
          },
          "execution_count": 4
        }
      ]
    },
    {
      "cell_type": "code",
      "metadata": {
        "id": "nhnGHcO8OoX_",
        "colab_type": "code",
        "colab": {
          "base_uri": "https://localhost:8080/",
          "height": 537
        },
        "outputId": "ed4d8f85-68c2-40e9-f290-9e5657d8b6ff"
      },
      "source": [
        "#checking for datatypes and missing values \n",
        "df.info()"
      ],
      "execution_count": 5,
      "outputs": [
        {
          "output_type": "stream",
          "text": [
            "<class 'pandas.core.frame.DataFrame'>\n",
            "RangeIndex: 46606 entries, 0 to 46605\n",
            "Data columns (total 25 columns):\n",
            " #   Column                      Non-Null Count  Dtype  \n",
            "---  ------                      --------------  -----  \n",
            " 0   CI_Name                     46606 non-null  object \n",
            " 1   CI_Cat                      46495 non-null  object \n",
            " 2   CI_Subcat                   46495 non-null  object \n",
            " 3   WBS                         46606 non-null  object \n",
            " 4   Incident_ID                 46606 non-null  object \n",
            " 5   Status                      46606 non-null  object \n",
            " 6   Impact                      46606 non-null  object \n",
            " 7   Urgency                     46606 non-null  object \n",
            " 8   Priority                    45226 non-null  float64\n",
            " 9   number_cnt                  46606 non-null  float64\n",
            " 10  Category                    46606 non-null  object \n",
            " 11  KB_number                   46606 non-null  object \n",
            " 12  Alert_Status                46606 non-null  object \n",
            " 13  No_of_Reassignments         46605 non-null  float64\n",
            " 14  Open_Time                   46606 non-null  object \n",
            " 15  Reopen_Time                 2284 non-null   object \n",
            " 16  Resolved_Time               44826 non-null  object \n",
            " 17  Close_Time                  46606 non-null  object \n",
            " 18  Handle_Time_hrs             46605 non-null  object \n",
            " 19  Closure_Code                46146 non-null  object \n",
            " 20  No_of_Related_Interactions  46492 non-null  float64\n",
            " 21  Related_Interaction         46606 non-null  object \n",
            " 22  No_of_Related_Incidents     1222 non-null   float64\n",
            " 23  No_of_Related_Changes       560 non-null    float64\n",
            " 24  Related_Change              560 non-null    object \n",
            "dtypes: float64(6), object(19)\n",
            "memory usage: 8.9+ MB\n"
          ],
          "name": "stdout"
        }
      ]
    },
    {
      "cell_type": "code",
      "metadata": {
        "id": "XTDJ0z9RPUk2",
        "colab_type": "code",
        "colab": {
          "base_uri": "https://localhost:8080/",
          "height": 440
        },
        "outputId": "2d4f1772-fe55-406d-bcd1-4238f027d8ad"
      },
      "source": [
        "df.isnull().sum()"
      ],
      "execution_count": 6,
      "outputs": [
        {
          "output_type": "execute_result",
          "data": {
            "text/plain": [
              "CI_Name                           0\n",
              "CI_Cat                          111\n",
              "CI_Subcat                       111\n",
              "WBS                               0\n",
              "Incident_ID                       0\n",
              "Status                            0\n",
              "Impact                            0\n",
              "Urgency                           0\n",
              "Priority                       1380\n",
              "number_cnt                        0\n",
              "Category                          0\n",
              "KB_number                         0\n",
              "Alert_Status                      0\n",
              "No_of_Reassignments               1\n",
              "Open_Time                         0\n",
              "Reopen_Time                   44322\n",
              "Resolved_Time                  1780\n",
              "Close_Time                        0\n",
              "Handle_Time_hrs                   1\n",
              "Closure_Code                    460\n",
              "No_of_Related_Interactions      114\n",
              "Related_Interaction               0\n",
              "No_of_Related_Incidents       45384\n",
              "No_of_Related_Changes         46046\n",
              "Related_Change                46046\n",
              "dtype: int64"
            ]
          },
          "metadata": {
            "tags": []
          },
          "execution_count": 6
        }
      ]
    },
    {
      "cell_type": "code",
      "metadata": {
        "id": "LPLYw3X3QlgF",
        "colab_type": "code",
        "colab": {
          "base_uri": "https://localhost:8080/",
          "height": 228
        },
        "outputId": "7e09ed0e-41ef-43b6-e1d7-296174295cd9"
      },
      "source": [
        "df.CI_Cat.value_counts()"
      ],
      "execution_count": 10,
      "outputs": [
        {
          "output_type": "execute_result",
          "data": {
            "text/plain": [
              "application             32900\n",
              "subapplication           7782\n",
              "computer                 3643\n",
              "storage                   703\n",
              "hardware                  442\n",
              "software                  333\n",
              "database                  214\n",
              "displaydevice             212\n",
              "officeelectronics         152\n",
              "networkcomponents         107\n",
              "applicationcomponent        5\n",
              "Phone                       2\n",
              "Name: CI_Cat, dtype: int64"
            ]
          },
          "metadata": {
            "tags": []
          },
          "execution_count": 10
        }
      ]
    },
    {
      "cell_type": "code",
      "metadata": {
        "id": "aptTMUh0RASL",
        "colab_type": "code",
        "colab": {
          "base_uri": "https://localhost:8080/",
          "height": 212
        },
        "outputId": "627bf0b6-e877-4df5-e749-45ab9d0356ec"
      },
      "source": [
        "df.CI_Subcat.value_counts()"
      ],
      "execution_count": 11,
      "outputs": [
        {
          "output_type": "execute_result",
          "data": {
            "text/plain": [
              "Server Based Application    18811\n",
              "Web Based Application       15311\n",
              "Desktop Application          3876\n",
              "Laptop                       1921\n",
              "SAP                          1199\n",
              "                            ...  \n",
              "Neoview Server                  1\n",
              "VMWare                          1\n",
              "RAC Service                     1\n",
              "UPS                             1\n",
              "Protocol                        1\n",
              "Name: CI_Subcat, Length: 64, dtype: int64"
            ]
          },
          "metadata": {
            "tags": []
          },
          "execution_count": 11
        }
      ]
    },
    {
      "cell_type": "markdown",
      "metadata": {
        "id": "-rA61CdkRIC1",
        "colab_type": "text"
      },
      "source": [
        "**Data Processing / Data Munging**\n",
        "\n",
        "CI Category & CI Subcategory had a lot of labels which were replaced to only take the major ones. Unknown values were replaced by Mode values."
      ]
    },
    {
      "cell_type": "code",
      "metadata": {
        "id": "6NWO2IlNRHKt",
        "colab_type": "code",
        "colab": {}
      },
      "source": [
        "df.CI_Cat.replace(['database'],'storage',inplace=True)\n",
        "df.CI_Cat.replace(['applicationcomponent'],'subapplication',inplace=True)\n",
        "df.CI_Cat.replace(['displaydevice','officeelectronics','Phone','networkcomponents'],'hardware',inplace=True)\n",
        "df.CI_Cat.replace(np.nan,'application',inplace=True)"
      ],
      "execution_count": 13,
      "outputs": []
    },
    {
      "cell_type": "code",
      "metadata": {
        "id": "EFhR3DmTR7aI",
        "colab_type": "code",
        "colab": {}
      },
      "source": [
        "df.CI_Subcat.replace('Desktop','Desktop Application',inplace=True)\n",
        "df.CI_Subcat.replace(['Application Server','Virtual Tape Server','ESX Server','zOS Server','Neoview Server','X86 Server',\n",
        "                       'Unix Server','Oracle Server','Windows Server in extern beheer','Thin Client','NonStop Server',\n",
        "                       'Number','Windows Server','Linux Server',np.nan,'SharePoint Farm','Lines'],\n",
        "                       'Server Based Application',inplace=True)\n",
        "df.CI_Subcat.replace('RAC Service','Banking Device',inplace=True)\n",
        "df.CI_Subcat.replace(['Iptelephony','Protocol','Net Device','IPtelephony','ESX Cluster','Standard Application'],\n",
        "                       'Web Based Application',inplace=True)\n",
        "df.CI_Subcat.replace(['VMWare','Security Software','zOS Systeem','Firewall','Database Software','VDI','Instance',\n",
        "                       'MQ Queue Manager','Automation Software','Citrix','SAP','Encryption'],'System Software',inplace=True)\n",
        "df.CI_Subcat.replace(['UPS','Omgeving'],'Client Based Application',inplace=True)\n",
        "df.CI_Subcat.replace(['NonStop Storage','NonStop Harddisk','Tape Library','zOS Cluster','DataCenterEquipment',\n",
        "                       'MigratieDummy'],'Database',inplace=True)\n",
        "df.CI_Subcat.replace(['Modem','Router'],'Network Component',inplace=True)\n",
        "df.CI_Subcat.replace('KVM Switches','Switch',inplace=True)"
      ],
      "execution_count": 14,
      "outputs": []
    },
    {
      "cell_type": "code",
      "metadata": {
        "id": "J6D-AMUHShaM",
        "colab_type": "code",
        "colab": {}
      },
      "source": [
        "df.No_of_Related_Interactions.replace(np.nan,1,inplace=True)\n",
        "df.Priority.replace(np.nan,4,inplace=True)\n",
        "df.No_of_Related_Incidents.replace(np.nan,0,inplace=True)\n",
        "df.No_of_Related_Changes.replace(np.nan,0,inplace=True)"
      ],
      "execution_count": 15,
      "outputs": []
    },
    {
      "cell_type": "markdown",
      "metadata": {
        "id": "U1ep88xJSz7X",
        "colab_type": "text"
      },
      "source": [
        "# Predicting Priorities\n",
        "\n",
        "**Feature Selection**\n",
        "\n",
        "Only the features which are available when the tickets arrives can be used to predict priority. Therefore, we have used only 4 predictors."
      ]
    },
    {
      "cell_type": "code",
      "metadata": {
        "id": "NHMMFat2SvXt",
        "colab_type": "code",
        "colab": {}
      },
      "source": [
        "X = df.loc[:,['CI_Cat','CI_Subcat','WBS','Category']]\n",
        "y = df.Priority"
      ],
      "execution_count": 17,
      "outputs": []
    },
    {
      "cell_type": "code",
      "metadata": {
        "id": "wTSl3j6rTVoP",
        "colab_type": "code",
        "colab": {
          "base_uri": "https://localhost:8080/",
          "height": 133
        },
        "outputId": "0434b181-700e-4a4f-b8f2-d1b235d3f5f4"
      },
      "source": [
        "X.head(3)"
      ],
      "execution_count": 19,
      "outputs": [
        {
          "output_type": "execute_result",
          "data": {
            "text/html": [
              "<div>\n",
              "<style scoped>\n",
              "    .dataframe tbody tr th:only-of-type {\n",
              "        vertical-align: middle;\n",
              "    }\n",
              "\n",
              "    .dataframe tbody tr th {\n",
              "        vertical-align: top;\n",
              "    }\n",
              "\n",
              "    .dataframe thead th {\n",
              "        text-align: right;\n",
              "    }\n",
              "</style>\n",
              "<table border=\"1\" class=\"dataframe\">\n",
              "  <thead>\n",
              "    <tr style=\"text-align: right;\">\n",
              "      <th></th>\n",
              "      <th>CI_Cat</th>\n",
              "      <th>CI_Subcat</th>\n",
              "      <th>WBS</th>\n",
              "      <th>Category</th>\n",
              "    </tr>\n",
              "  </thead>\n",
              "  <tbody>\n",
              "    <tr>\n",
              "      <th>0</th>\n",
              "      <td>subapplication</td>\n",
              "      <td>Web Based Application</td>\n",
              "      <td>WBS000162</td>\n",
              "      <td>incident</td>\n",
              "    </tr>\n",
              "    <tr>\n",
              "      <th>1</th>\n",
              "      <td>application</td>\n",
              "      <td>Web Based Application</td>\n",
              "      <td>WBS000088</td>\n",
              "      <td>incident</td>\n",
              "    </tr>\n",
              "    <tr>\n",
              "      <th>2</th>\n",
              "      <td>application</td>\n",
              "      <td>Desktop Application</td>\n",
              "      <td>WBS000092</td>\n",
              "      <td>request for information</td>\n",
              "    </tr>\n",
              "  </tbody>\n",
              "</table>\n",
              "</div>"
            ],
            "text/plain": [
              "           CI_Cat              CI_Subcat        WBS                 Category\n",
              "0  subapplication  Web Based Application  WBS000162                 incident\n",
              "1     application  Web Based Application  WBS000088                 incident\n",
              "2     application    Desktop Application  WBS000092  request for information"
            ]
          },
          "metadata": {
            "tags": []
          },
          "execution_count": 19
        }
      ]
    },
    {
      "cell_type": "code",
      "metadata": {
        "id": "Zbr0fjrsTfcF",
        "colab_type": "code",
        "colab": {}
      },
      "source": [
        "# Label Encoding\n",
        "enc= LabelEncoder()\n",
        "for i in (0,1,2,3):\n",
        "    X.iloc[:,i] = enc.fit_transform(X.iloc[:,i])"
      ],
      "execution_count": 20,
      "outputs": []
    },
    {
      "cell_type": "code",
      "metadata": {
        "id": "hJd87qzRVXVY",
        "colab_type": "code",
        "colab": {}
      },
      "source": [
        "# Splitting the data into test and train for calculating accuracy\n",
        "X_train, X_test, y_train, y_test = train_test_split(X,y,test_size=0.3,random_state=10)"
      ],
      "execution_count": 23,
      "outputs": []
    },
    {
      "cell_type": "code",
      "metadata": {
        "id": "tB52apDTVkoq",
        "colab_type": "code",
        "colab": {}
      },
      "source": [
        "# Standardization technique\n",
        "sc = StandardScaler()\n",
        "X_train = sc.fit_transform(X_train)\n",
        "X_test = sc.transform(X_test)"
      ],
      "execution_count": 24,
      "outputs": []
    },
    {
      "cell_type": "code",
      "metadata": {
        "id": "8QVMFRjkWAaN",
        "colab_type": "code",
        "colab": {
          "base_uri": "https://localhost:8080/",
          "height": 33
        },
        "outputId": "fa24ad68-ad62-496f-ca5a-9e14141c178e"
      },
      "source": [
        "X_train.shape\n"
      ],
      "execution_count": 25,
      "outputs": [
        {
          "output_type": "execute_result",
          "data": {
            "text/plain": [
              "(32624, 4)"
            ]
          },
          "metadata": {
            "tags": []
          },
          "execution_count": 25
        }
      ]
    },
    {
      "cell_type": "code",
      "metadata": {
        "id": "gA3Vw7H6WXtx",
        "colab_type": "code",
        "colab": {
          "base_uri": "https://localhost:8080/",
          "height": 33
        },
        "outputId": "c5def321-4ee0-435e-8614-d39dbe66fc69"
      },
      "source": [
        "X_test.shape"
      ],
      "execution_count": 26,
      "outputs": [
        {
          "output_type": "execute_result",
          "data": {
            "text/plain": [
              "(13982, 4)"
            ]
          },
          "metadata": {
            "tags": []
          },
          "execution_count": 26
        }
      ]
    },
    {
      "cell_type": "markdown",
      "metadata": {
        "id": "Y3OyWV6tWfYf",
        "colab_type": "text"
      },
      "source": [
        "# Models \n",
        "\n",
        "**1.Support Vector Machine**"
      ]
    },
    {
      "cell_type": "code",
      "metadata": {
        "id": "OOyfrQX7Wb1t",
        "colab_type": "code",
        "colab": {}
      },
      "source": [
        "# Training the model\n",
        "from sklearn.svm import SVC\n",
        "rbf_svc = SVC(kernel='rbf',C=10,gamma=0.1).fit(X_train,y_train)"
      ],
      "execution_count": 27,
      "outputs": []
    },
    {
      "cell_type": "code",
      "metadata": {
        "id": "WdDJIAQGXLj8",
        "colab_type": "code",
        "colab": {}
      },
      "source": [
        "# Predicting the model\n",
        "y_predict_svm = rbf_svc.predict(X_test)"
      ],
      "execution_count": 28,
      "outputs": []
    },
    {
      "cell_type": "code",
      "metadata": {
        "id": "OjhzfJjzXTdG",
        "colab_type": "code",
        "colab": {
          "base_uri": "https://localhost:8080/",
          "height": 228
        },
        "outputId": "27dbbef8-19ed-4e3a-b1fd-d9ded0dcd600"
      },
      "source": [
        "# Finding accuracy, precision, recall and confusion matrix\n",
        "print(accuracy_score(y_test,y_predict_svm))\n",
        "print(classification_report(y_test,y_predict_svm))"
      ],
      "execution_count": 29,
      "outputs": [
        {
          "output_type": "stream",
          "text": [
            "0.747604062365899\n",
            "              precision    recall  f1-score   support\n",
            "\n",
            "         1.0       0.00      0.00      0.00         1\n",
            "         2.0       0.52      0.65      0.58       210\n",
            "         3.0       0.55      0.31      0.39      1581\n",
            "         4.0       0.72      0.89      0.80      7254\n",
            "         5.0       0.87      0.68      0.76      4936\n",
            "\n",
            "    accuracy                           0.75     13982\n",
            "   macro avg       0.53      0.51      0.51     13982\n",
            "weighted avg       0.75      0.75      0.74     13982\n",
            "\n"
          ],
          "name": "stdout"
        }
      ]
    },
    {
      "cell_type": "code",
      "metadata": {
        "id": "e6hebaqDXgvZ",
        "colab_type": "code",
        "colab": {
          "base_uri": "https://localhost:8080/",
          "height": 98
        },
        "outputId": "15d3efce-fc8c-4830-e9f0-13e0bb7cd60b"
      },
      "source": [
        "confusion_matrix(y_test,y_predict_svm)"
      ],
      "execution_count": 30,
      "outputs": [
        {
          "output_type": "execute_result",
          "data": {
            "text/plain": [
              "array([[   0,    0,    0,    1,    0],\n",
              "       [   0,  137,    8,   56,    9],\n",
              "       [   0,   36,  486,  958,  101],\n",
              "       [   0,   78,  314, 6477,  385],\n",
              "       [   0,   10,   79, 1494, 3353]])"
            ]
          },
          "metadata": {
            "tags": []
          },
          "execution_count": 30
        }
      ]
    },
    {
      "cell_type": "markdown",
      "metadata": {
        "id": "DSCKGrIydiqQ",
        "colab_type": "text"
      },
      "source": [
        "**2.Decision Tree**"
      ]
    },
    {
      "cell_type": "code",
      "metadata": {
        "id": "49mSJ8-wdaSv",
        "colab_type": "code",
        "colab": {
          "base_uri": "https://localhost:8080/",
          "height": 115
        },
        "outputId": "d0cf150a-912d-4992-addc-1cdde378f58c"
      },
      "source": [
        "# Training the model\n",
        "from sklearn.tree import DecisionTreeClassifier\n",
        "model_dtree=DecisionTreeClassifier()\n",
        "model_dtree.fit(X_train,y_train)"
      ],
      "execution_count": 31,
      "outputs": [
        {
          "output_type": "execute_result",
          "data": {
            "text/plain": [
              "DecisionTreeClassifier(ccp_alpha=0.0, class_weight=None, criterion='gini',\n",
              "                       max_depth=None, max_features=None, max_leaf_nodes=None,\n",
              "                       min_impurity_decrease=0.0, min_impurity_split=None,\n",
              "                       min_samples_leaf=1, min_samples_split=2,\n",
              "                       min_weight_fraction_leaf=0.0, presort='deprecated',\n",
              "                       random_state=None, splitter='best')"
            ]
          },
          "metadata": {
            "tags": []
          },
          "execution_count": 31
        }
      ]
    },
    {
      "cell_type": "code",
      "metadata": {
        "id": "G225TXUNdxDu",
        "colab_type": "code",
        "colab": {}
      },
      "source": [
        "# Predicting the model\n",
        "y_predict_dtree = model_dtree.predict(X_test)"
      ],
      "execution_count": 32,
      "outputs": []
    },
    {
      "cell_type": "code",
      "metadata": {
        "id": "UkRJ5q--d4Kp",
        "colab_type": "code",
        "colab": {
          "base_uri": "https://localhost:8080/",
          "height": 228
        },
        "outputId": "963f6066-ecc2-4c8b-b327-15e73123f1df"
      },
      "source": [
        "# Finding accuracy, precision, recall and confusion matrix\n",
        "print(accuracy_score(y_test,y_predict_dtree))\n",
        "print(classification_report(y_test,y_predict_dtree))"
      ],
      "execution_count": 33,
      "outputs": [
        {
          "output_type": "stream",
          "text": [
            "0.81690745243885\n",
            "              precision    recall  f1-score   support\n",
            "\n",
            "         1.0       0.00      0.00      0.00         1\n",
            "         2.0       0.52      0.69      0.59       210\n",
            "         3.0       0.66      0.63      0.65      1581\n",
            "         4.0       0.82      0.87      0.85      7254\n",
            "         5.0       0.88      0.80      0.84      4936\n",
            "\n",
            "    accuracy                           0.82     13982\n",
            "   macro avg       0.58      0.60      0.58     13982\n",
            "weighted avg       0.82      0.82      0.82     13982\n",
            "\n"
          ],
          "name": "stdout"
        }
      ]
    },
    {
      "cell_type": "code",
      "metadata": {
        "id": "zpt9prs9eCPr",
        "colab_type": "code",
        "colab": {
          "base_uri": "https://localhost:8080/",
          "height": 98
        },
        "outputId": "96453b18-270b-42c1-a138-bc5cb1505b9e"
      },
      "source": [
        "confusion_matrix(y_test,y_predict_dtree)\n"
      ],
      "execution_count": 34,
      "outputs": [
        {
          "output_type": "execute_result",
          "data": {
            "text/plain": [
              "array([[   0,    0,    0,    1,    0],\n",
              "       [   0,  144,    6,   43,   17],\n",
              "       [   0,   42,  999,  419,  121],\n",
              "       [   0,   80,  458, 6325,  391],\n",
              "       [   0,   12,   51,  919, 3954]])"
            ]
          },
          "metadata": {
            "tags": []
          },
          "execution_count": 34
        }
      ]
    },
    {
      "cell_type": "markdown",
      "metadata": {
        "id": "61sV36z-eIUS",
        "colab_type": "text"
      },
      "source": [
        "**3.Random Forest**"
      ]
    },
    {
      "cell_type": "code",
      "metadata": {
        "id": "-qemyfZieF43",
        "colab_type": "code",
        "colab": {
          "base_uri": "https://localhost:8080/",
          "height": 147
        },
        "outputId": "58dc6b92-d786-484c-e2d5-59e28dbfceb7"
      },
      "source": [
        "# Training the model\n",
        "from sklearn.ensemble import RandomForestClassifier\n",
        "model_rf = RandomForestClassifier(max_depth=27)\n",
        "model_rf.fit(X_train,y_train)"
      ],
      "execution_count": 35,
      "outputs": [
        {
          "output_type": "execute_result",
          "data": {
            "text/plain": [
              "RandomForestClassifier(bootstrap=True, ccp_alpha=0.0, class_weight=None,\n",
              "                       criterion='gini', max_depth=27, max_features='auto',\n",
              "                       max_leaf_nodes=None, max_samples=None,\n",
              "                       min_impurity_decrease=0.0, min_impurity_split=None,\n",
              "                       min_samples_leaf=1, min_samples_split=2,\n",
              "                       min_weight_fraction_leaf=0.0, n_estimators=100,\n",
              "                       n_jobs=None, oob_score=False, random_state=None,\n",
              "                       verbose=0, warm_start=False)"
            ]
          },
          "metadata": {
            "tags": []
          },
          "execution_count": 35
        }
      ]
    },
    {
      "cell_type": "code",
      "metadata": {
        "id": "Ner3Q2JSeWp0",
        "colab_type": "code",
        "colab": {}
      },
      "source": [
        "# Predicting the model\n",
        "y_predict_rf = model_rf.predict(X_test)"
      ],
      "execution_count": 36,
      "outputs": []
    },
    {
      "cell_type": "code",
      "metadata": {
        "id": "00sfwEPTeaoy",
        "colab_type": "code",
        "colab": {
          "base_uri": "https://localhost:8080/",
          "height": 228
        },
        "outputId": "849cd4f4-161d-4291-bb9b-68ea74006a36"
      },
      "source": [
        "# Finding accuracy, precision, recall and confusion matrix\n",
        "print(accuracy_score(y_test,y_predict_rf))\n",
        "print(classification_report(y_test,y_predict_rf))"
      ],
      "execution_count": 37,
      "outputs": [
        {
          "output_type": "stream",
          "text": [
            "0.8164783292805035\n",
            "              precision    recall  f1-score   support\n",
            "\n",
            "         1.0       0.00      0.00      0.00         1\n",
            "         2.0       0.52      0.67      0.58       210\n",
            "         3.0       0.66      0.62      0.64      1581\n",
            "         4.0       0.82      0.87      0.85      7254\n",
            "         5.0       0.88      0.80      0.84      4936\n",
            "\n",
            "    accuracy                           0.82     13982\n",
            "   macro avg       0.58      0.59      0.58     13982\n",
            "weighted avg       0.82      0.82      0.82     13982\n",
            "\n"
          ],
          "name": "stdout"
        }
      ]
    },
    {
      "cell_type": "code",
      "metadata": {
        "id": "am98T3lDee5i",
        "colab_type": "code",
        "colab": {
          "base_uri": "https://localhost:8080/",
          "height": 98
        },
        "outputId": "73a746af-2b4c-4fe0-892a-c995669d99fd"
      },
      "source": [
        "confusion_matrix(y_test,y_predict_rf)"
      ],
      "execution_count": 38,
      "outputs": [
        {
          "output_type": "execute_result",
          "data": {
            "text/plain": [
              "array([[   0,    0,    0,    1,    0],\n",
              "       [   0,  140,    9,   44,   17],\n",
              "       [   0,   40,  986,  433,  122],\n",
              "       [   0,   78,  451, 6332,  393],\n",
              "       [   0,   11,   48,  919, 3958]])"
            ]
          },
          "metadata": {
            "tags": []
          },
          "execution_count": 38
        }
      ]
    },
    {
      "cell_type": "markdown",
      "metadata": {
        "id": "6GtJ1uAMeoWl",
        "colab_type": "text"
      },
      "source": [
        "**4.K-Nearest Neighbor**"
      ]
    },
    {
      "cell_type": "code",
      "metadata": {
        "id": "_2FkanJjelPe",
        "colab_type": "code",
        "colab": {
          "base_uri": "https://localhost:8080/",
          "height": 66
        },
        "outputId": "464c388f-0b88-4033-fb7d-815cacb0b0ac"
      },
      "source": [
        "# Training the model\n",
        "from sklearn.neighbors import KNeighborsClassifier\n",
        "model_knn = KNeighborsClassifier(n_neighbors=12,metric='euclidean') # Maximum accuracy for n=10\n",
        "model_knn.fit(X_train,y_train)"
      ],
      "execution_count": 39,
      "outputs": [
        {
          "output_type": "execute_result",
          "data": {
            "text/plain": [
              "KNeighborsClassifier(algorithm='auto', leaf_size=30, metric='euclidean',\n",
              "                     metric_params=None, n_jobs=None, n_neighbors=12, p=2,\n",
              "                     weights='uniform')"
            ]
          },
          "metadata": {
            "tags": []
          },
          "execution_count": 39
        }
      ]
    },
    {
      "cell_type": "code",
      "metadata": {
        "id": "IGmJX_ZWe2DS",
        "colab_type": "code",
        "colab": {}
      },
      "source": [
        "# Predicting the model\n",
        "y_predict_knn = model_knn.predict(X_test)"
      ],
      "execution_count": 40,
      "outputs": []
    },
    {
      "cell_type": "code",
      "metadata": {
        "id": "GAsA9aBWe6Re",
        "colab_type": "code",
        "colab": {
          "base_uri": "https://localhost:8080/",
          "height": 228
        },
        "outputId": "428c65ff-f987-498c-b5e2-dcee38cf1a19"
      },
      "source": [
        "# Finding accuracy, precision, recall and confusion matrix\n",
        "print(accuracy_score(y_test,y_predict_knn))\n",
        "print(classification_report(y_test,y_predict_knn))"
      ],
      "execution_count": 41,
      "outputs": [
        {
          "output_type": "stream",
          "text": [
            "0.8133314261192962\n",
            "              precision    recall  f1-score   support\n",
            "\n",
            "         1.0       0.00      0.00      0.00         1\n",
            "         2.0       0.51      0.67      0.58       210\n",
            "         3.0       0.66      0.62      0.64      1581\n",
            "         4.0       0.81      0.87      0.84      7254\n",
            "         5.0       0.88      0.79      0.84      4936\n",
            "\n",
            "    accuracy                           0.81     13982\n",
            "   macro avg       0.57      0.59      0.58     13982\n",
            "weighted avg       0.82      0.81      0.81     13982\n",
            "\n"
          ],
          "name": "stdout"
        }
      ]
    },
    {
      "cell_type": "code",
      "metadata": {
        "id": "5jaJbWqEe-_n",
        "colab_type": "code",
        "colab": {
          "base_uri": "https://localhost:8080/",
          "height": 98
        },
        "outputId": "21fa6389-29f7-42f4-a1a6-9b13892bd200"
      },
      "source": [
        "confusion_matrix(y_test,y_predict_knn)\n"
      ],
      "execution_count": 42,
      "outputs": [
        {
          "output_type": "execute_result",
          "data": {
            "text/plain": [
              "array([[   0,    0,    0,    1,    0],\n",
              "       [   0,  141,    7,   47,   15],\n",
              "       [   0,   42,  986,  432,  121],\n",
              "       [   0,   80,  460, 6339,  375],\n",
              "       [   0,   14,   51,  965, 3906]])"
            ]
          },
          "metadata": {
            "tags": []
          },
          "execution_count": 42
        }
      ]
    },
    {
      "cell_type": "markdown",
      "metadata": {
        "id": "OEH7oAHWfEv2",
        "colab_type": "text"
      },
      "source": [
        "**5.XGBOOST Classifier**"
      ]
    },
    {
      "cell_type": "code",
      "metadata": {
        "id": "qu0ncnS_fCiF",
        "colab_type": "code",
        "colab": {
          "base_uri": "https://localhost:8080/",
          "height": 131
        },
        "outputId": "cca184f5-7d91-4071-de53-727efa87efd6"
      },
      "source": [
        "# Training the model\n",
        "from xgboost import XGBClassifier\n",
        "model_xgb = XGBClassifier()\n",
        "model_xgb.fit(X_train,y_train)"
      ],
      "execution_count": 43,
      "outputs": [
        {
          "output_type": "execute_result",
          "data": {
            "text/plain": [
              "XGBClassifier(base_score=0.5, booster='gbtree', colsample_bylevel=1,\n",
              "              colsample_bynode=1, colsample_bytree=1, gamma=0,\n",
              "              learning_rate=0.1, max_delta_step=0, max_depth=3,\n",
              "              min_child_weight=1, missing=None, n_estimators=100, n_jobs=1,\n",
              "              nthread=None, objective='multi:softprob', random_state=0,\n",
              "              reg_alpha=0, reg_lambda=1, scale_pos_weight=1, seed=None,\n",
              "              silent=None, subsample=1, verbosity=1)"
            ]
          },
          "metadata": {
            "tags": []
          },
          "execution_count": 43
        }
      ]
    },
    {
      "cell_type": "code",
      "metadata": {
        "id": "mP_bGNlGfPpP",
        "colab_type": "code",
        "colab": {}
      },
      "source": [
        "# Predicting the model\n",
        "y_predict_xgb = model_xgb.predict(X_test)"
      ],
      "execution_count": 44,
      "outputs": []
    },
    {
      "cell_type": "code",
      "metadata": {
        "id": "62pprM8_fZzJ",
        "colab_type": "code",
        "colab": {
          "base_uri": "https://localhost:8080/",
          "height": 228
        },
        "outputId": "66b1ef9b-46ac-4e33-b292-d9e9fd699372"
      },
      "source": [
        "# Finding accuracy, precision, recall and confusion matrix\n",
        "print(accuracy_score(y_test,y_predict_xgb))\n",
        "print(classification_report(y_test,y_predict_xgb))"
      ],
      "execution_count": 45,
      "outputs": [
        {
          "output_type": "stream",
          "text": [
            "0.7924474324131026\n",
            "              precision    recall  f1-score   support\n",
            "\n",
            "         1.0       0.00      0.00      0.00         1\n",
            "         2.0       0.53      0.65      0.59       210\n",
            "         3.0       0.67      0.41      0.51      1581\n",
            "         4.0       0.77      0.89      0.83      7254\n",
            "         5.0       0.87      0.77      0.82      4936\n",
            "\n",
            "    accuracy                           0.79     13982\n",
            "   macro avg       0.57      0.55      0.55     13982\n",
            "weighted avg       0.79      0.79      0.79     13982\n",
            "\n"
          ],
          "name": "stdout"
        }
      ]
    },
    {
      "cell_type": "code",
      "metadata": {
        "id": "IWhFCXpgffR2",
        "colab_type": "code",
        "colab": {
          "base_uri": "https://localhost:8080/",
          "height": 98
        },
        "outputId": "cb14054b-ca55-425d-b241-a977a4f60488"
      },
      "source": [
        "confusion_matrix(y_test,y_predict_xgb)"
      ],
      "execution_count": 46,
      "outputs": [
        {
          "output_type": "execute_result",
          "data": {
            "text/plain": [
              "array([[   0,    0,    0,    1,    0],\n",
              "       [   0,  137,    3,   56,   14],\n",
              "       [   0,   36,  647,  776,  122],\n",
              "       [   0,   75,  267, 6492,  420],\n",
              "       [   0,   10,   46, 1076, 3804]])"
            ]
          },
          "metadata": {
            "tags": []
          },
          "execution_count": 46
        }
      ]
    },
    {
      "cell_type": "markdown",
      "metadata": {
        "id": "FWo8LAL1fqn0",
        "colab_type": "text"
      },
      "source": [
        "**6.Artificial Neural Networks**"
      ]
    },
    {
      "cell_type": "code",
      "metadata": {
        "id": "HLiUw9jkfl_Z",
        "colab_type": "code",
        "colab": {
          "base_uri": "https://localhost:8080/",
          "height": 147
        },
        "outputId": "fda923d7-12db-4fca-b4c2-0bd7bcb82061"
      },
      "source": [
        "# Training the model\n",
        "from sklearn.neural_network import MLPClassifier\n",
        "model_mlp = MLPClassifier()\n",
        "model_mlp.fit(X_train,y_train)"
      ],
      "execution_count": 47,
      "outputs": [
        {
          "output_type": "execute_result",
          "data": {
            "text/plain": [
              "MLPClassifier(activation='relu', alpha=0.0001, batch_size='auto', beta_1=0.9,\n",
              "              beta_2=0.999, early_stopping=False, epsilon=1e-08,\n",
              "              hidden_layer_sizes=(100,), learning_rate='constant',\n",
              "              learning_rate_init=0.001, max_fun=15000, max_iter=200,\n",
              "              momentum=0.9, n_iter_no_change=10, nesterovs_momentum=True,\n",
              "              power_t=0.5, random_state=None, shuffle=True, solver='adam',\n",
              "              tol=0.0001, validation_fraction=0.1, verbose=False,\n",
              "              warm_start=False)"
            ]
          },
          "metadata": {
            "tags": []
          },
          "execution_count": 47
        }
      ]
    },
    {
      "cell_type": "code",
      "metadata": {
        "id": "YxE8FrtogAIS",
        "colab_type": "code",
        "colab": {}
      },
      "source": [
        "# Predicting the model\n",
        "y_predict_mlp = model_mlp.predict(X_test)"
      ],
      "execution_count": 48,
      "outputs": []
    },
    {
      "cell_type": "code",
      "metadata": {
        "id": "7fWaIUS8gFgy",
        "colab_type": "code",
        "colab": {
          "base_uri": "https://localhost:8080/",
          "height": 228
        },
        "outputId": "ea96f22b-bc0e-419e-9499-1a860895c3a9"
      },
      "source": [
        "# Finding accuracy, precision, recall and confusion matrix\n",
        "print(accuracy_score(y_test,y_predict_mlp))\n",
        "print(classification_report(y_test,y_predict_mlp))"
      ],
      "execution_count": 49,
      "outputs": [
        {
          "output_type": "stream",
          "text": [
            "0.7677013302817909\n",
            "              precision    recall  f1-score   support\n",
            "\n",
            "         1.0       0.00      0.00      0.00         1\n",
            "         2.0       0.52      0.65      0.58       210\n",
            "         3.0       0.61      0.39      0.48      1581\n",
            "         4.0       0.75      0.89      0.81      7254\n",
            "         5.0       0.87      0.72      0.79      4936\n",
            "\n",
            "    accuracy                           0.77     13982\n",
            "   macro avg       0.55      0.53      0.53     13982\n",
            "weighted avg       0.77      0.77      0.76     13982\n",
            "\n"
          ],
          "name": "stdout"
        }
      ]
    },
    {
      "cell_type": "code",
      "metadata": {
        "id": "uoo3pOFAgKAH",
        "colab_type": "code",
        "colab": {
          "base_uri": "https://localhost:8080/",
          "height": 98
        },
        "outputId": "14c26200-a2fd-4803-ef4b-214ce940902a"
      },
      "source": [
        "confusion_matrix(y_test,y_predict_mlp)"
      ],
      "execution_count": 50,
      "outputs": [
        {
          "output_type": "execute_result",
          "data": {
            "text/plain": [
              "array([[   0,    0,    0,    1,    0],\n",
              "       [   0,  137,    6,   55,   12],\n",
              "       [   0,   36,  620,  817,  108],\n",
              "       [   0,   78,  339, 6421,  416],\n",
              "       [   0,   10,   53, 1317, 3556]])"
            ]
          },
          "metadata": {
            "tags": []
          },
          "execution_count": 50
        }
      ]
    },
    {
      "cell_type": "code",
      "metadata": {
        "id": "mlAwCvtigUWc",
        "colab_type": "code",
        "colab": {
          "base_uri": "https://localhost:8080/",
          "height": 33
        },
        "outputId": "5ba57d1d-a680-4353-8b70-d5aa8fcac574"
      },
      "source": [
        "# Exporting the trained model\n",
        "joblib.dump(model_rf,'Predicting_Priority.ml')"
      ],
      "execution_count": 51,
      "outputs": [
        {
          "output_type": "execute_result",
          "data": {
            "text/plain": [
              "['Predicting_Priority.ml']"
            ]
          },
          "metadata": {
            "tags": []
          },
          "execution_count": 51
        }
      ]
    },
    {
      "cell_type": "markdown",
      "metadata": {
        "id": "Ao_uvSSdgsrZ",
        "colab_type": "text"
      },
      "source": [
        "# 2. Predicting Request For Change (RFC)\n",
        "\n",
        "Feature Selection"
      ]
    },
    {
      "cell_type": "code",
      "metadata": {
        "id": "DMBEL564gmiF",
        "colab_type": "code",
        "colab": {}
      },
      "source": [
        "# Selecting the predictors\n",
        "X1 = df.loc[:,['CI_Subcat','WBS','Priority','Category','No_of_Related_Interactions','No_of_Related_Incidents']]\n",
        "y1 = df.No_of_Related_Changes"
      ],
      "execution_count": 52,
      "outputs": []
    },
    {
      "cell_type": "code",
      "metadata": {
        "id": "JyEi99dLg77T",
        "colab_type": "code",
        "colab": {
          "base_uri": "https://localhost:8080/",
          "height": 105
        },
        "outputId": "89dc110c-81b1-475c-c1f8-c920a7633a32"
      },
      "source": [
        "X1.head(2)"
      ],
      "execution_count": 53,
      "outputs": [
        {
          "output_type": "execute_result",
          "data": {
            "text/html": [
              "<div>\n",
              "<style scoped>\n",
              "    .dataframe tbody tr th:only-of-type {\n",
              "        vertical-align: middle;\n",
              "    }\n",
              "\n",
              "    .dataframe tbody tr th {\n",
              "        vertical-align: top;\n",
              "    }\n",
              "\n",
              "    .dataframe thead th {\n",
              "        text-align: right;\n",
              "    }\n",
              "</style>\n",
              "<table border=\"1\" class=\"dataframe\">\n",
              "  <thead>\n",
              "    <tr style=\"text-align: right;\">\n",
              "      <th></th>\n",
              "      <th>CI_Subcat</th>\n",
              "      <th>WBS</th>\n",
              "      <th>Priority</th>\n",
              "      <th>Category</th>\n",
              "      <th>No_of_Related_Interactions</th>\n",
              "      <th>No_of_Related_Incidents</th>\n",
              "    </tr>\n",
              "  </thead>\n",
              "  <tbody>\n",
              "    <tr>\n",
              "      <th>0</th>\n",
              "      <td>Web Based Application</td>\n",
              "      <td>WBS000162</td>\n",
              "      <td>4.0</td>\n",
              "      <td>incident</td>\n",
              "      <td>1.0</td>\n",
              "      <td>2.0</td>\n",
              "    </tr>\n",
              "    <tr>\n",
              "      <th>1</th>\n",
              "      <td>Web Based Application</td>\n",
              "      <td>WBS000088</td>\n",
              "      <td>3.0</td>\n",
              "      <td>incident</td>\n",
              "      <td>1.0</td>\n",
              "      <td>1.0</td>\n",
              "    </tr>\n",
              "  </tbody>\n",
              "</table>\n",
              "</div>"
            ],
            "text/plain": [
              "               CI_Subcat  ... No_of_Related_Incidents\n",
              "0  Web Based Application  ...                     2.0\n",
              "1  Web Based Application  ...                     1.0\n",
              "\n",
              "[2 rows x 6 columns]"
            ]
          },
          "metadata": {
            "tags": []
          },
          "execution_count": 53
        }
      ]
    },
    {
      "cell_type": "code",
      "metadata": {
        "id": "OM3YYvkthEWJ",
        "colab_type": "code",
        "colab": {}
      },
      "source": [
        "enc= LabelEncoder()\n",
        "for i in (0,1,3,4):\n",
        "    X1.iloc[:,i] = enc.fit_transform(X1.iloc[:,i])"
      ],
      "execution_count": 54,
      "outputs": []
    },
    {
      "cell_type": "code",
      "metadata": {
        "id": "QoJAAnbohWxV",
        "colab_type": "code",
        "colab": {}
      },
      "source": [
        "# Splitting into train and test for calculating the accuracy\n",
        "X1_train, X1_test, y1_train, y1_test = train_test_split(X1,y1,test_size=0.3,random_state=10)"
      ],
      "execution_count": 55,
      "outputs": []
    },
    {
      "cell_type": "code",
      "metadata": {
        "id": "YZMIUJ7hhbKD",
        "colab_type": "code",
        "colab": {}
      },
      "source": [
        "# Standardization technique is used\n",
        "sc = StandardScaler()\n",
        "X1_train = sc.fit_transform(X1_train)\n",
        "X1_test = sc.transform(X1_test)"
      ],
      "execution_count": 56,
      "outputs": []
    },
    {
      "cell_type": "code",
      "metadata": {
        "id": "2nwZDgEHhhzp",
        "colab_type": "code",
        "colab": {
          "base_uri": "https://localhost:8080/",
          "height": 33
        },
        "outputId": "a0ba77e2-5124-4b24-dee1-9f016dca585d"
      },
      "source": [
        "X1_train.shape\n"
      ],
      "execution_count": 57,
      "outputs": [
        {
          "output_type": "execute_result",
          "data": {
            "text/plain": [
              "(32624, 6)"
            ]
          },
          "metadata": {
            "tags": []
          },
          "execution_count": 57
        }
      ]
    },
    {
      "cell_type": "code",
      "metadata": {
        "id": "6IXMTba3hkOV",
        "colab_type": "code",
        "colab": {
          "base_uri": "https://localhost:8080/",
          "height": 33
        },
        "outputId": "526e4f0d-74eb-4303-8d26-d6b9e5bfb4fc"
      },
      "source": [
        "X1_test.shape"
      ],
      "execution_count": 58,
      "outputs": [
        {
          "output_type": "execute_result",
          "data": {
            "text/plain": [
              "(13982, 6)"
            ]
          },
          "metadata": {
            "tags": []
          },
          "execution_count": 58
        }
      ]
    },
    {
      "cell_type": "markdown",
      "metadata": {
        "id": "RDMK-D3chr0L",
        "colab_type": "text"
      },
      "source": [
        "# **Models**\n",
        "\n",
        "**1.Decision Tree**"
      ]
    },
    {
      "cell_type": "code",
      "metadata": {
        "id": "bZHB-J2xhnBa",
        "colab_type": "code",
        "colab": {
          "base_uri": "https://localhost:8080/",
          "height": 115
        },
        "outputId": "12920602-c679-4d5a-df2f-bb1a1db82eef"
      },
      "source": [
        "# Training the model\n",
        "from sklearn.tree import DecisionTreeClassifier\n",
        "model1_dtree=DecisionTreeClassifier()\n",
        "model1_dtree.fit(X1_train,y1_train)"
      ],
      "execution_count": 59,
      "outputs": [
        {
          "output_type": "execute_result",
          "data": {
            "text/plain": [
              "DecisionTreeClassifier(ccp_alpha=0.0, class_weight=None, criterion='gini',\n",
              "                       max_depth=None, max_features=None, max_leaf_nodes=None,\n",
              "                       min_impurity_decrease=0.0, min_impurity_split=None,\n",
              "                       min_samples_leaf=1, min_samples_split=2,\n",
              "                       min_weight_fraction_leaf=0.0, presort='deprecated',\n",
              "                       random_state=None, splitter='best')"
            ]
          },
          "metadata": {
            "tags": []
          },
          "execution_count": 59
        }
      ]
    },
    {
      "cell_type": "code",
      "metadata": {
        "id": "nNkgcS1_iPtm",
        "colab_type": "code",
        "colab": {}
      },
      "source": [
        "# Predicting the model\n",
        "y1_predict_dtree = model1_dtree.predict(X1_test)"
      ],
      "execution_count": 60,
      "outputs": []
    },
    {
      "cell_type": "code",
      "metadata": {
        "id": "sgQxBnHLiTpJ",
        "colab_type": "code",
        "colab": {
          "base_uri": "https://localhost:8080/",
          "height": 228
        },
        "outputId": "2a562130-7ebd-47d5-8402-4200488452b7"
      },
      "source": [
        "# Finding accuracy, precision, recall and confusion matrix\n",
        "print(accuracy_score(y1_test,y1_predict_dtree))\n",
        "print(classification_report(y1_test,y1_predict_dtree))"
      ],
      "execution_count": 61,
      "outputs": [
        {
          "output_type": "stream",
          "text": [
            "0.9886282363038192\n",
            "              precision    recall  f1-score   support\n",
            "\n",
            "         0.0       0.99      1.00      0.99     13835\n",
            "         1.0       0.22      0.03      0.05       138\n",
            "         2.0       0.00      0.00      0.00         8\n",
            "         3.0       0.00      0.00      0.00         1\n",
            "         9.0       0.00      0.00      0.00         0\n",
            "\n",
            "    accuracy                           0.99     13982\n",
            "   macro avg       0.24      0.21      0.21     13982\n",
            "weighted avg       0.98      0.99      0.98     13982\n",
            "\n"
          ],
          "name": "stdout"
        }
      ]
    },
    {
      "cell_type": "code",
      "metadata": {
        "id": "sSFul3HxiYTL",
        "colab_type": "code",
        "colab": {
          "base_uri": "https://localhost:8080/",
          "height": 98
        },
        "outputId": "d6acf696-5f5c-4db7-def5-16e68ef3c0a8"
      },
      "source": [
        "confusion_matrix(y1_test,y1_predict_dtree)"
      ],
      "execution_count": 62,
      "outputs": [
        {
          "output_type": "execute_result",
          "data": {
            "text/plain": [
              "array([[13819,    14,     1,     0,     1],\n",
              "       [  134,     4,     0,     0,     0],\n",
              "       [    8,     0,     0,     0,     0],\n",
              "       [    1,     0,     0,     0,     0],\n",
              "       [    0,     0,     0,     0,     0]])"
            ]
          },
          "metadata": {
            "tags": []
          },
          "execution_count": 62
        }
      ]
    },
    {
      "cell_type": "markdown",
      "metadata": {
        "id": "VHmHqbQnihMX",
        "colab_type": "text"
      },
      "source": [
        "**2.Random Forest**"
      ]
    },
    {
      "cell_type": "code",
      "metadata": {
        "id": "lPP7oLzeid44",
        "colab_type": "code",
        "colab": {
          "base_uri": "https://localhost:8080/",
          "height": 147
        },
        "outputId": "9c188d30-a5af-437f-bec4-e4bcb84d94f0"
      },
      "source": [
        "# Training the model\n",
        "from sklearn.ensemble import RandomForestClassifier\n",
        "model1_rf = RandomForestClassifier()\n",
        "model1_rf.fit(X1_train,y1_train)"
      ],
      "execution_count": 63,
      "outputs": [
        {
          "output_type": "execute_result",
          "data": {
            "text/plain": [
              "RandomForestClassifier(bootstrap=True, ccp_alpha=0.0, class_weight=None,\n",
              "                       criterion='gini', max_depth=None, max_features='auto',\n",
              "                       max_leaf_nodes=None, max_samples=None,\n",
              "                       min_impurity_decrease=0.0, min_impurity_split=None,\n",
              "                       min_samples_leaf=1, min_samples_split=2,\n",
              "                       min_weight_fraction_leaf=0.0, n_estimators=100,\n",
              "                       n_jobs=None, oob_score=False, random_state=None,\n",
              "                       verbose=0, warm_start=False)"
            ]
          },
          "metadata": {
            "tags": []
          },
          "execution_count": 63
        }
      ]
    },
    {
      "cell_type": "code",
      "metadata": {
        "id": "qCou2n3Tipwg",
        "colab_type": "code",
        "colab": {}
      },
      "source": [
        "# Predicting the model\n",
        "y1_predict_rf = model1_rf.predict(X1_test)"
      ],
      "execution_count": 64,
      "outputs": []
    },
    {
      "cell_type": "code",
      "metadata": {
        "id": "uQ4Q4oyOitRk",
        "colab_type": "code",
        "colab": {
          "base_uri": "https://localhost:8080/",
          "height": 212
        },
        "outputId": "597a37b3-3ef4-455c-d207-fe16150152b4"
      },
      "source": [
        "# Finding accuracy, precision, recall and confusion matrix\n",
        "print(accuracy_score(y1_test,y1_predict_rf))\n",
        "print(classification_report(y1_test,y1_predict_rf))"
      ],
      "execution_count": 65,
      "outputs": [
        {
          "output_type": "stream",
          "text": [
            "0.9891288799885567\n",
            "              precision    recall  f1-score   support\n",
            "\n",
            "         0.0       0.99      1.00      0.99     13835\n",
            "         1.0       0.22      0.01      0.03       138\n",
            "         2.0       0.00      0.00      0.00         8\n",
            "         3.0       0.00      0.00      0.00         1\n",
            "\n",
            "    accuracy                           0.99     13982\n",
            "   macro avg       0.30      0.25      0.26     13982\n",
            "weighted avg       0.98      0.99      0.98     13982\n",
            "\n"
          ],
          "name": "stdout"
        }
      ]
    },
    {
      "cell_type": "code",
      "metadata": {
        "id": "3G5-zLF7iycM",
        "colab_type": "code",
        "colab": {
          "base_uri": "https://localhost:8080/",
          "height": 82
        },
        "outputId": "d117170d-93d8-4b91-aceb-9b17b0e22309"
      },
      "source": [
        "confusion_matrix(y1_test,y1_predict_rf)"
      ],
      "execution_count": 66,
      "outputs": [
        {
          "output_type": "execute_result",
          "data": {
            "text/plain": [
              "array([[13828,     7,     0,     0],\n",
              "       [  136,     2,     0,     0],\n",
              "       [    8,     0,     0,     0],\n",
              "       [    1,     0,     0,     0]])"
            ]
          },
          "metadata": {
            "tags": []
          },
          "execution_count": 66
        }
      ]
    },
    {
      "cell_type": "code",
      "metadata": {
        "id": "pPRQlaM_i2HO",
        "colab_type": "code",
        "colab": {
          "base_uri": "https://localhost:8080/",
          "height": 33
        },
        "outputId": "bc47ad8d-f4ea-4800-a245-f1ff046ee8dd"
      },
      "source": [
        "# Exporting the trained model\n",
        "joblib.dump(model1_dtree,'Predict_RFC.ml')"
      ],
      "execution_count": 67,
      "outputs": [
        {
          "output_type": "execute_result",
          "data": {
            "text/plain": [
              "['Predict_RFC.ml']"
            ]
          },
          "metadata": {
            "tags": []
          },
          "execution_count": 67
        }
      ]
    },
    {
      "cell_type": "markdown",
      "metadata": {
        "id": "bBvxhfY8i-Jr",
        "colab_type": "text"
      },
      "source": [
        "# **3.Forecasting the Incident Volume**"
      ]
    },
    {
      "cell_type": "code",
      "metadata": {
        "id": "FYyJ3Myii7cQ",
        "colab_type": "code",
        "colab": {}
      },
      "source": [
        "# Imporing the necessary columns\n",
        "frq = df.loc[:,['Incident_ID','Open_Time']]"
      ],
      "execution_count": 69,
      "outputs": []
    },
    {
      "cell_type": "code",
      "metadata": {
        "id": "-IHI3JFwjRG8",
        "colab_type": "code",
        "colab": {
          "base_uri": "https://localhost:8080/",
          "height": 191
        },
        "outputId": "4b0914af-0c4c-4846-ceff-b1e7fe11e346"
      },
      "source": [
        "frq.head()"
      ],
      "execution_count": 70,
      "outputs": [
        {
          "output_type": "execute_result",
          "data": {
            "text/html": [
              "<div>\n",
              "<style scoped>\n",
              "    .dataframe tbody tr th:only-of-type {\n",
              "        vertical-align: middle;\n",
              "    }\n",
              "\n",
              "    .dataframe tbody tr th {\n",
              "        vertical-align: top;\n",
              "    }\n",
              "\n",
              "    .dataframe thead th {\n",
              "        text-align: right;\n",
              "    }\n",
              "</style>\n",
              "<table border=\"1\" class=\"dataframe\">\n",
              "  <thead>\n",
              "    <tr style=\"text-align: right;\">\n",
              "      <th></th>\n",
              "      <th>Incident_ID</th>\n",
              "      <th>Open_Time</th>\n",
              "    </tr>\n",
              "  </thead>\n",
              "  <tbody>\n",
              "    <tr>\n",
              "      <th>0</th>\n",
              "      <td>IM0000004</td>\n",
              "      <td>5/2/2012 13:32</td>\n",
              "    </tr>\n",
              "    <tr>\n",
              "      <th>1</th>\n",
              "      <td>IM0000005</td>\n",
              "      <td>12/3/2012 15:44</td>\n",
              "    </tr>\n",
              "    <tr>\n",
              "      <th>2</th>\n",
              "      <td>IM0000006</td>\n",
              "      <td>29-03-2012 12:36</td>\n",
              "    </tr>\n",
              "    <tr>\n",
              "      <th>3</th>\n",
              "      <td>IM0000011</td>\n",
              "      <td>17-07-2012 11:49</td>\n",
              "    </tr>\n",
              "    <tr>\n",
              "      <th>4</th>\n",
              "      <td>IM0000012</td>\n",
              "      <td>10/8/2012 11:01</td>\n",
              "    </tr>\n",
              "  </tbody>\n",
              "</table>\n",
              "</div>"
            ],
            "text/plain": [
              "  Incident_ID         Open_Time\n",
              "0   IM0000004    5/2/2012 13:32\n",
              "1   IM0000005   12/3/2012 15:44\n",
              "2   IM0000006  29-03-2012 12:36\n",
              "3   IM0000011  17-07-2012 11:49\n",
              "4   IM0000012   10/8/2012 11:01"
            ]
          },
          "metadata": {
            "tags": []
          },
          "execution_count": 70
        }
      ]
    },
    {
      "cell_type": "code",
      "metadata": {
        "id": "8gn_7AGJjWAM",
        "colab_type": "code",
        "colab": {}
      },
      "source": [
        "# Coverting all the values in proper Datetime format\n",
        "for i in range(len(frq.Open_Time)):\n",
        "    if (frq.Open_Time[i][1]=='/'):\n",
        "        frq.Open_Time[i] = dt.datetime.strptime(frq.Open_Time[i],'%d/%m/%Y %H:%M').date()\n",
        "    elif (frq.Open_Time[i][2]=='/'):\n",
        "        frq.Open_Time[i] = dt.datetime.strptime(frq.Open_Time[i],'%d/%m/%Y %H:%M').date()\n",
        "    else:\n",
        "        frq.Open_Time[i] = dt.datetime.strptime(frq.Open_Time[i],'%d-%m-%Y %H:%M').date()"
      ],
      "execution_count": 72,
      "outputs": []
    },
    {
      "cell_type": "code",
      "metadata": {
        "id": "K5_K4WyHmjQe",
        "colab_type": "code",
        "colab": {
          "base_uri": "https://localhost:8080/",
          "height": 191
        },
        "outputId": "896a7f10-9463-491b-b05e-ce37a29ad8fa"
      },
      "source": [
        "frq.head()"
      ],
      "execution_count": 73,
      "outputs": [
        {
          "output_type": "execute_result",
          "data": {
            "text/html": [
              "<div>\n",
              "<style scoped>\n",
              "    .dataframe tbody tr th:only-of-type {\n",
              "        vertical-align: middle;\n",
              "    }\n",
              "\n",
              "    .dataframe tbody tr th {\n",
              "        vertical-align: top;\n",
              "    }\n",
              "\n",
              "    .dataframe thead th {\n",
              "        text-align: right;\n",
              "    }\n",
              "</style>\n",
              "<table border=\"1\" class=\"dataframe\">\n",
              "  <thead>\n",
              "    <tr style=\"text-align: right;\">\n",
              "      <th></th>\n",
              "      <th>Incident_ID</th>\n",
              "      <th>Open_Time</th>\n",
              "    </tr>\n",
              "  </thead>\n",
              "  <tbody>\n",
              "    <tr>\n",
              "      <th>0</th>\n",
              "      <td>IM0000004</td>\n",
              "      <td>2012-02-05</td>\n",
              "    </tr>\n",
              "    <tr>\n",
              "      <th>1</th>\n",
              "      <td>IM0000005</td>\n",
              "      <td>2012-03-12</td>\n",
              "    </tr>\n",
              "    <tr>\n",
              "      <th>2</th>\n",
              "      <td>IM0000006</td>\n",
              "      <td>2012-03-29</td>\n",
              "    </tr>\n",
              "    <tr>\n",
              "      <th>3</th>\n",
              "      <td>IM0000011</td>\n",
              "      <td>2012-07-17</td>\n",
              "    </tr>\n",
              "    <tr>\n",
              "      <th>4</th>\n",
              "      <td>IM0000012</td>\n",
              "      <td>2012-08-10</td>\n",
              "    </tr>\n",
              "  </tbody>\n",
              "</table>\n",
              "</div>"
            ],
            "text/plain": [
              "  Incident_ID   Open_Time\n",
              "0   IM0000004  2012-02-05\n",
              "1   IM0000005  2012-03-12\n",
              "2   IM0000006  2012-03-29\n",
              "3   IM0000011  2012-07-17\n",
              "4   IM0000012  2012-08-10"
            ]
          },
          "metadata": {
            "tags": []
          },
          "execution_count": 73
        }
      ]
    },
    {
      "cell_type": "code",
      "metadata": {
        "id": "N1CluMgomqZA",
        "colab_type": "code",
        "colab": {}
      },
      "source": [
        "# Adding a new column which will have the number of tickets per day\n",
        "frq['No_Incidents'] = frq.groupby('Open_Time')['Incident_ID'].transform('count')"
      ],
      "execution_count": 74,
      "outputs": []
    },
    {
      "cell_type": "code",
      "metadata": {
        "id": "uRbbOD6vm1BY",
        "colab_type": "code",
        "colab": {}
      },
      "source": [
        "frq.drop(['Incident_ID'],axis=1,inplace=True)\n",
        "frq.drop_duplicates(inplace=True)"
      ],
      "execution_count": 75,
      "outputs": []
    },
    {
      "cell_type": "code",
      "metadata": {
        "id": "EEmmoqIRm7rs",
        "colab_type": "code",
        "colab": {
          "base_uri": "https://localhost:8080/",
          "height": 191
        },
        "outputId": "9437a96f-c8ea-46c1-cca9-5c09ad1969e0"
      },
      "source": [
        "frq.head()"
      ],
      "execution_count": 76,
      "outputs": [
        {
          "output_type": "execute_result",
          "data": {
            "text/html": [
              "<div>\n",
              "<style scoped>\n",
              "    .dataframe tbody tr th:only-of-type {\n",
              "        vertical-align: middle;\n",
              "    }\n",
              "\n",
              "    .dataframe tbody tr th {\n",
              "        vertical-align: top;\n",
              "    }\n",
              "\n",
              "    .dataframe thead th {\n",
              "        text-align: right;\n",
              "    }\n",
              "</style>\n",
              "<table border=\"1\" class=\"dataframe\">\n",
              "  <thead>\n",
              "    <tr style=\"text-align: right;\">\n",
              "      <th></th>\n",
              "      <th>Open_Time</th>\n",
              "      <th>No_Incidents</th>\n",
              "    </tr>\n",
              "  </thead>\n",
              "  <tbody>\n",
              "    <tr>\n",
              "      <th>0</th>\n",
              "      <td>2012-02-05</td>\n",
              "      <td>1</td>\n",
              "    </tr>\n",
              "    <tr>\n",
              "      <th>1</th>\n",
              "      <td>2012-03-12</td>\n",
              "      <td>1</td>\n",
              "    </tr>\n",
              "    <tr>\n",
              "      <th>2</th>\n",
              "      <td>2012-03-29</td>\n",
              "      <td>1</td>\n",
              "    </tr>\n",
              "    <tr>\n",
              "      <th>3</th>\n",
              "      <td>2012-07-17</td>\n",
              "      <td>1</td>\n",
              "    </tr>\n",
              "    <tr>\n",
              "      <th>4</th>\n",
              "      <td>2012-08-10</td>\n",
              "      <td>2</td>\n",
              "    </tr>\n",
              "  </tbody>\n",
              "</table>\n",
              "</div>"
            ],
            "text/plain": [
              "    Open_Time  No_Incidents\n",
              "0  2012-02-05             1\n",
              "1  2012-03-12             1\n",
              "2  2012-03-29             1\n",
              "3  2012-07-17             1\n",
              "4  2012-08-10             2"
            ]
          },
          "metadata": {
            "tags": []
          },
          "execution_count": 76
        }
      ]
    },
    {
      "cell_type": "code",
      "metadata": {
        "id": "yygN4g-BnBAA",
        "colab_type": "code",
        "colab": {
          "base_uri": "https://localhost:8080/",
          "height": 147
        },
        "outputId": "5861c349-8e04-4815-9204-92bc9e37e383"
      },
      "source": [
        "# Setting Date as the Index\n",
        "frq =frq.set_index('Open_Time')\n",
        "frq.index = pd.to_datetime(frq.index)\n",
        "frq.index"
      ],
      "execution_count": 77,
      "outputs": [
        {
          "output_type": "execute_result",
          "data": {
            "text/plain": [
              "DatetimeIndex(['2012-02-05', '2012-03-12', '2012-03-29', '2012-07-17',\n",
              "               '2012-08-10', '2012-08-15', '2012-08-22', '2012-08-29',\n",
              "               '2012-09-03', '2012-09-21',\n",
              "               ...\n",
              "               '2014-03-22', '2014-03-24', '2014-03-23', '2014-03-25',\n",
              "               '2014-03-26', '2014-03-27', '2014-03-28', '2014-03-29',\n",
              "               '2014-03-30', '2014-03-31'],\n",
              "              dtype='datetime64[ns]', name='Open_Time', length=331, freq=None)"
            ]
          },
          "metadata": {
            "tags": []
          },
          "execution_count": 77
        }
      ]
    },
    {
      "cell_type": "code",
      "metadata": {
        "id": "G_hf09fmnNcp",
        "colab_type": "code",
        "colab": {
          "base_uri": "https://localhost:8080/",
          "height": 162
        },
        "outputId": "e9999ae9-1971-4e17-82d0-d8f488a875ae"
      },
      "source": [
        "frq.head(3)"
      ],
      "execution_count": 78,
      "outputs": [
        {
          "output_type": "execute_result",
          "data": {
            "text/html": [
              "<div>\n",
              "<style scoped>\n",
              "    .dataframe tbody tr th:only-of-type {\n",
              "        vertical-align: middle;\n",
              "    }\n",
              "\n",
              "    .dataframe tbody tr th {\n",
              "        vertical-align: top;\n",
              "    }\n",
              "\n",
              "    .dataframe thead th {\n",
              "        text-align: right;\n",
              "    }\n",
              "</style>\n",
              "<table border=\"1\" class=\"dataframe\">\n",
              "  <thead>\n",
              "    <tr style=\"text-align: right;\">\n",
              "      <th></th>\n",
              "      <th>No_Incidents</th>\n",
              "    </tr>\n",
              "    <tr>\n",
              "      <th>Open_Time</th>\n",
              "      <th></th>\n",
              "    </tr>\n",
              "  </thead>\n",
              "  <tbody>\n",
              "    <tr>\n",
              "      <th>2012-02-05</th>\n",
              "      <td>1</td>\n",
              "    </tr>\n",
              "    <tr>\n",
              "      <th>2012-03-12</th>\n",
              "      <td>1</td>\n",
              "    </tr>\n",
              "    <tr>\n",
              "      <th>2012-03-29</th>\n",
              "      <td>1</td>\n",
              "    </tr>\n",
              "  </tbody>\n",
              "</table>\n",
              "</div>"
            ],
            "text/plain": [
              "            No_Incidents\n",
              "Open_Time               \n",
              "2012-02-05             1\n",
              "2012-03-12             1\n",
              "2012-03-29             1"
            ]
          },
          "metadata": {
            "tags": []
          },
          "execution_count": 78
        }
      ]
    },
    {
      "cell_type": "code",
      "metadata": {
        "id": "zcCRjh2lnT63",
        "colab_type": "code",
        "colab": {
          "base_uri": "https://localhost:8080/",
          "height": 33
        },
        "outputId": "710f737b-6314-44ee-bf78-3bc895840830"
      },
      "source": [
        "# Checking range of dates for our values\n",
        "print(frq.index.min(),'to',frq.index.max())"
      ],
      "execution_count": 79,
      "outputs": [
        {
          "output_type": "stream",
          "text": [
            "2012-02-05 00:00:00 to 2014-03-31 00:00:00\n"
          ],
          "name": "stdout"
        }
      ]
    },
    {
      "cell_type": "code",
      "metadata": {
        "id": "SqSPJaxAnfXl",
        "colab_type": "code",
        "colab": {
          "base_uri": "https://localhost:8080/",
          "height": 147
        },
        "outputId": "00ad8798-35f4-48ce-f556-92527da69501"
      },
      "source": [
        "# Making a new Series with frequency as Day\n",
        "data1 = frq['No_Incidents']\n",
        "data1 = data1.asfreq('D')\n",
        "data1.index"
      ],
      "execution_count": 80,
      "outputs": [
        {
          "output_type": "execute_result",
          "data": {
            "text/plain": [
              "DatetimeIndex(['2012-02-05', '2012-02-06', '2012-02-07', '2012-02-08',\n",
              "               '2012-02-09', '2012-02-10', '2012-02-11', '2012-02-12',\n",
              "               '2012-02-13', '2012-02-14',\n",
              "               ...\n",
              "               '2014-03-22', '2014-03-23', '2014-03-24', '2014-03-25',\n",
              "               '2014-03-26', '2014-03-27', '2014-03-28', '2014-03-29',\n",
              "               '2014-03-30', '2014-03-31'],\n",
              "              dtype='datetime64[ns]', name='Open_Time', length=786, freq='D')"
            ]
          },
          "metadata": {
            "tags": []
          },
          "execution_count": 80
        }
      ]
    },
    {
      "cell_type": "code",
      "metadata": {
        "id": "1QTpCvlzw5Mz",
        "colab_type": "code",
        "colab": {
          "base_uri": "https://localhost:8080/",
          "height": 401
        },
        "outputId": "ace515ba-5aa8-44f3-ecb7-f58576bec8a2"
      },
      "source": [
        "# Plotting number of tickets per day\n",
        "data1.plot(figsize=(15,6))\n",
        "plt.show()"
      ],
      "execution_count": 81,
      "outputs": [
        {
          "output_type": "display_data",
          "data": {
            "image/png": "[encoded data removed]",
            "text/plain": [
              "<Figure size 1080x432 with 1 Axes>"
            ]
          },
          "metadata": {
            "tags": [],
            "needs_background": "light"
          }
        }
      ]
    },
    {
      "cell_type": "code",
      "metadata": {
        "id": "Q0571pTZxBOp",
        "colab_type": "code",
        "colab": {}
      },
      "source": [
        "# Since not many tickets before October 2013, we consider only the latter values\n",
        "incfrom2013 = frq[frq.index > dt.datetime(2013,10,1)]"
      ],
      "execution_count": 83,
      "outputs": []
    },
    {
      "cell_type": "code",
      "metadata": {
        "id": "OffiKQbIxKuP",
        "colab_type": "code",
        "colab": {
          "base_uri": "https://localhost:8080/",
          "height": 147
        },
        "outputId": "603cbb4a-39b2-4c75-fa40-8d44c191c8c1"
      },
      "source": [
        "data2 = incfrom2013['No_Incidents']\n",
        "data2 = data2.asfreq('D')\n",
        "data2.index"
      ],
      "execution_count": 84,
      "outputs": [
        {
          "output_type": "execute_result",
          "data": {
            "text/plain": [
              "DatetimeIndex(['2013-10-02', '2013-10-03', '2013-10-04', '2013-10-05',\n",
              "               '2013-10-06', '2013-10-07', '2013-10-08', '2013-10-09',\n",
              "               '2013-10-10', '2013-10-11',\n",
              "               ...\n",
              "               '2014-03-22', '2014-03-23', '2014-03-24', '2014-03-25',\n",
              "               '2014-03-26', '2014-03-27', '2014-03-28', '2014-03-29',\n",
              "               '2014-03-30', '2014-03-31'],\n",
              "              dtype='datetime64[ns]', name='Open_Time', length=181, freq='D')"
            ]
          },
          "metadata": {
            "tags": []
          },
          "execution_count": 84
        }
      ]
    },
    {
      "cell_type": "code",
      "metadata": {
        "id": "odHBjW9txREG",
        "colab_type": "code",
        "colab": {
          "base_uri": "https://localhost:8080/",
          "height": 401
        },
        "outputId": "0cefcf7a-27a0-4577-f4e6-341e79f34b24"
      },
      "source": [
        "# Plotting number of tickets per day after October 2013\n",
        "data2.plot(figsize=(15,6))\n",
        "plt.show()"
      ],
      "execution_count": 85,
      "outputs": [
        {
          "output_type": "display_data",
          "data": {
            "image/png": "[encoded data removed]",
            "text/plain": [
              "<Figure size 1080x432 with 1 Axes>"
            ]
          },
          "metadata": {
            "tags": [],
            "needs_background": "light"
          }
        }
      ]
    },
    {
      "cell_type": "code",
      "metadata": {
        "id": "ymVadgKRxXwd",
        "colab_type": "code",
        "colab": {}
      },
      "source": [
        "# Making a list of values for p,d & q\n",
        "p = d = q = range(0,2)\n",
        "pdq = list(itertools.product(p,d,q))"
      ],
      "execution_count": 86,
      "outputs": []
    },
    {
      "cell_type": "code",
      "metadata": {
        "id": "epkySVfZxdL3",
        "colab_type": "code",
        "colab": {
          "base_uri": "https://localhost:8080/",
          "height": 131
        },
        "outputId": "0eda278c-44b6-46b3-de8d-e1755562c318"
      },
      "source": [
        "# Choosing the model with minimum AIC and the ARIMA Model for Time Series Forecasting\n",
        "mod = sm.tsa.statespace.SARIMAX(data2,order=(1,1,1))\n",
        "results = mod.fit()\n",
        "print(results.summary().tables[1])"
      ],
      "execution_count": 87,
      "outputs": [
        {
          "output_type": "stream",
          "text": [
            "==============================================================================\n",
            "                 coef    std err          z      P>|z|      [0.025      0.975]\n",
            "------------------------------------------------------------------------------\n",
            "ar.L1          0.3386      0.090      3.771      0.000       0.163       0.515\n",
            "ma.L1         -0.9989      0.428     -2.332      0.020      -1.839      -0.159\n",
            "sigma2       2.52e+04   9781.689      2.576      0.010    6023.597    4.44e+04\n",
            "==============================================================================\n"
          ],
          "name": "stdout"
        }
      ]
    },
    {
      "cell_type": "code",
      "metadata": {
        "id": "XzX4oW5fxjED",
        "colab_type": "code",
        "colab": {
          "base_uri": "https://localhost:8080/",
          "height": 212
        },
        "outputId": "d2099253-6dc9-44e3-dbea-7180bfce6465"
      },
      "source": [
        "# Predicting the future values and the confidence interval\n",
        "pred = results.get_prediction(start=pd.to_datetime('2014-3-3'),end=pd.to_datetime('2014-10-30'),dynamic=False)\n",
        "pred_ci = pred.conf_int()\n",
        "pred.predicted_mean.round()"
      ],
      "execution_count": 88,
      "outputs": [
        {
          "output_type": "execute_result",
          "data": {
            "text/plain": [
              "2014-03-03    172.0\n",
              "2014-03-04    266.0\n",
              "2014-03-05    279.0\n",
              "2014-03-06    272.0\n",
              "2014-03-07    291.0\n",
              "              ...  \n",
              "2014-10-26    252.0\n",
              "2014-10-27    252.0\n",
              "2014-10-28    252.0\n",
              "2014-10-29    252.0\n",
              "2014-10-30    252.0\n",
              "Freq: D, Length: 242, dtype: float64"
            ]
          },
          "metadata": {
            "tags": []
          },
          "execution_count": 88
        }
      ]
    },
    {
      "cell_type": "code",
      "metadata": {
        "id": "LVD5ZSw0xpfz",
        "colab_type": "code",
        "colab": {
          "base_uri": "https://localhost:8080/",
          "height": 400
        },
        "outputId": "b92925ca-32ee-42e4-bb85-44aeec5da4ff"
      },
      "source": [
        "ax = data2['2013':].plot(label='observed')\n",
        "pred.predicted_mean.plot(ax=ax,label='One-step ahead Forecast',figsize=(15, 6))\n",
        "ax.fill_between(pred_ci.index,pred_ci.iloc[:,0],pred_ci.iloc[:,1],color='grey',alpha=0.3)\n",
        "ax.set_xlabel('Date')\n",
        "ax.set_ylabel('No of Incidents')\n",
        "plt.legend()\n",
        "plt.show()"
      ],
      "execution_count": 89,
      "outputs": [
        {
          "output_type": "display_data",
          "data": {
            "image/png": "[encoded data removed]",
            "text/plain": [
              "<Figure size 1080x432 with 1 Axes>"
            ]
          },
          "metadata": {
            "tags": [],
            "needs_background": "light"
          }
        }
      ]
    }
  ]
}