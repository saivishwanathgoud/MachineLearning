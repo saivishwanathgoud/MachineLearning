{
  "nbformat": 4,
  "nbformat_minor": 0,
  "metadata": {
    "colab": {
      "name": "Car-Price prediction.ipynb",
      "provenance": [],
      "collapsed_sections": [],
      "authorship_tag": "ABX9TyMGn4jRo2JJSFMSTZTe5G43",
      "include_colab_link": true
    },
    "kernelspec": {
      "name": "python3",
      "display_name": "Python 3"
    }
  },
  "cells": [
    {
      "cell_type": "markdown",
      "metadata": {
        "id": "view-in-github",
        "colab_type": "text"
      },
      "source": [
        "<a href=\"https://colab.research.google.com/github/saivishwanathgoud/MachineLearning/blob/master/Car_Price_prediction.ipynb\" target=\"_parent\"><img src=\"https://colab.research.google.com/assets/colab-badge.svg\" alt=\"Open In Colab\"/></a>"
      ]
    },
    {
      "cell_type": "markdown",
      "metadata": {
        "id": "FXKSwScX9vsp",
        "colab_type": "text"
      },
      "source": [
        "#**Car Price Prediction**\n",
        "\n",
        "*Description of dataset:* \n",
        "\n",
        "\n",
        "1. Name : Company name\n",
        "2. Location : Location where the car has been purchase\n",
        "3. Year : Manufacturing year\n",
        "4. Kilometers_driven : Total distance the car has been driven\n",
        "5. Fuel Type ; Diesel, Petrol, CNG, Electric, LPG (Type of Fuel used)\n",
        "6. Transmission : Type of gearing system used\n",
        "7. Owner type : First/Second/Third\n",
        "8. Mileage : a number of miles travelled or covered in a litre or kg of fuel in kmpl or km/kg\n",
        "9. Engine : A component that drives the system in CC\n",
        "10. Power : Power of Engine\n",
        "11. Seats : Seats provided\n",
        "12. Price : Price of vehichle (In Lakhs) #### Target"
      ]
    },
    {
      "cell_type": "code",
      "metadata": {
        "id": "PFrKpJ5v7BzE",
        "colab_type": "code",
        "colab": {
          "base_uri": "https://localhost:8080/",
          "height": 50
        },
        "outputId": "8b200f1e-e9b0-4de8-dfc3-3552ac04f949"
      },
      "source": [
        "#Importing neccassary libraries\n",
        "import pandas as pd\n",
        "import numpy as np\n",
        "\n",
        "#data visualization libraries\n",
        "import matplotlib.pyplot as plt\n",
        "import seaborn as sns\n",
        "%matplotlib inline\n",
        "\n",
        "#Data preprocessing libraries\n",
        "from sklearn.preprocessing import LabelEncoder\n",
        "from sklearn import preprocessing\n",
        "\n",
        "#Model Building libraries\n",
        "from sklearn.model_selection import train_test_split\n",
        "from sklearn import metrics\n",
        "from xgboost.sklearn import XGBRegressor\n",
        "from sklearn.ensemble import GradientBoostingRegressor\n",
        "from sklearn.ensemble import RandomForestRegressor \n",
        "from sklearn.ensemble import ExtraTreesRegressor"
      ],
      "execution_count": 1,
      "outputs": [
        {
          "output_type": "stream",
          "text": [
            "/usr/local/lib/python3.6/dist-packages/statsmodels/tools/_testing.py:19: FutureWarning: pandas.util.testing is deprecated. Use the functions in the public API at pandas.testing instead.\n",
            "  import pandas.util.testing as tm\n"
          ],
          "name": "stderr"
        }
      ]
    },
    {
      "cell_type": "code",
      "metadata": {
        "id": "Nhu8vWaK7g6O",
        "colab_type": "code",
        "colab": {
          "base_uri": "https://localhost:8080/",
          "height": 191
        },
        "outputId": "d2d508e6-20a6-4fdd-db84-8aa5b073d938"
      },
      "source": [
        "df = pd.read_csv(\"train-data.txt\")\n",
        "df.head()"
      ],
      "execution_count": 2,
      "outputs": [
        {
          "output_type": "execute_result",
          "data": {
            "text/html": [
              "<div>\n",
              "<style scoped>\n",
              "    .dataframe tbody tr th:only-of-type {\n",
              "        vertical-align: middle;\n",
              "    }\n",
              "\n",
              "    .dataframe tbody tr th {\n",
              "        vertical-align: top;\n",
              "    }\n",
              "\n",
              "    .dataframe thead th {\n",
              "        text-align: right;\n",
              "    }\n",
              "</style>\n",
              "<table border=\"1\" class=\"dataframe\">\n",
              "  <thead>\n",
              "    <tr style=\"text-align: right;\">\n",
              "      <th></th>\n",
              "      <th>Unnamed: 0</th>\n",
              "      <th>Name</th>\n",
              "      <th>Location</th>\n",
              "      <th>Year</th>\n",
              "      <th>Kilometers_Driven</th>\n",
              "      <th>Fuel_Type</th>\n",
              "      <th>Transmission</th>\n",
              "      <th>Owner_Type</th>\n",
              "      <th>Mileage</th>\n",
              "      <th>Engine</th>\n",
              "      <th>Power</th>\n",
              "      <th>Seats</th>\n",
              "      <th>New_Price</th>\n",
              "      <th>Price</th>\n",
              "    </tr>\n",
              "  </thead>\n",
              "  <tbody>\n",
              "    <tr>\n",
              "      <th>0</th>\n",
              "      <td>0</td>\n",
              "      <td>Maruti Wagon R LXI CNG</td>\n",
              "      <td>Mumbai</td>\n",
              "      <td>2010</td>\n",
              "      <td>72000</td>\n",
              "      <td>CNG</td>\n",
              "      <td>Manual</td>\n",
              "      <td>First</td>\n",
              "      <td>26.6 km/kg</td>\n",
              "      <td>998 CC</td>\n",
              "      <td>58.16 bhp</td>\n",
              "      <td>5.0</td>\n",
              "      <td>NaN</td>\n",
              "      <td>1.75</td>\n",
              "    </tr>\n",
              "    <tr>\n",
              "      <th>1</th>\n",
              "      <td>1</td>\n",
              "      <td>Hyundai Creta 1.6 CRDi SX Option</td>\n",
              "      <td>Pune</td>\n",
              "      <td>2015</td>\n",
              "      <td>41000</td>\n",
              "      <td>Diesel</td>\n",
              "      <td>Manual</td>\n",
              "      <td>First</td>\n",
              "      <td>19.67 kmpl</td>\n",
              "      <td>1582 CC</td>\n",
              "      <td>126.2 bhp</td>\n",
              "      <td>5.0</td>\n",
              "      <td>NaN</td>\n",
              "      <td>12.50</td>\n",
              "    </tr>\n",
              "    <tr>\n",
              "      <th>2</th>\n",
              "      <td>2</td>\n",
              "      <td>Honda Jazz V</td>\n",
              "      <td>Chennai</td>\n",
              "      <td>2011</td>\n",
              "      <td>46000</td>\n",
              "      <td>Petrol</td>\n",
              "      <td>Manual</td>\n",
              "      <td>First</td>\n",
              "      <td>18.2 kmpl</td>\n",
              "      <td>1199 CC</td>\n",
              "      <td>88.7 bhp</td>\n",
              "      <td>5.0</td>\n",
              "      <td>8.61 Lakh</td>\n",
              "      <td>4.50</td>\n",
              "    </tr>\n",
              "    <tr>\n",
              "      <th>3</th>\n",
              "      <td>3</td>\n",
              "      <td>Maruti Ertiga VDI</td>\n",
              "      <td>Chennai</td>\n",
              "      <td>2012</td>\n",
              "      <td>87000</td>\n",
              "      <td>Diesel</td>\n",
              "      <td>Manual</td>\n",
              "      <td>First</td>\n",
              "      <td>20.77 kmpl</td>\n",
              "      <td>1248 CC</td>\n",
              "      <td>88.76 bhp</td>\n",
              "      <td>7.0</td>\n",
              "      <td>NaN</td>\n",
              "      <td>6.00</td>\n",
              "    </tr>\n",
              "    <tr>\n",
              "      <th>4</th>\n",
              "      <td>4</td>\n",
              "      <td>Audi A4 New 2.0 TDI Multitronic</td>\n",
              "      <td>Coimbatore</td>\n",
              "      <td>2013</td>\n",
              "      <td>40670</td>\n",
              "      <td>Diesel</td>\n",
              "      <td>Automatic</td>\n",
              "      <td>Second</td>\n",
              "      <td>15.2 kmpl</td>\n",
              "      <td>1968 CC</td>\n",
              "      <td>140.8 bhp</td>\n",
              "      <td>5.0</td>\n",
              "      <td>NaN</td>\n",
              "      <td>17.74</td>\n",
              "    </tr>\n",
              "  </tbody>\n",
              "</table>\n",
              "</div>"
            ],
            "text/plain": [
              "   Unnamed: 0                              Name  ...  New_Price  Price\n",
              "0           0            Maruti Wagon R LXI CNG  ...        NaN   1.75\n",
              "1           1  Hyundai Creta 1.6 CRDi SX Option  ...        NaN  12.50\n",
              "2           2                      Honda Jazz V  ...  8.61 Lakh   4.50\n",
              "3           3                 Maruti Ertiga VDI  ...        NaN   6.00\n",
              "4           4   Audi A4 New 2.0 TDI Multitronic  ...        NaN  17.74\n",
              "\n",
              "[5 rows x 14 columns]"
            ]
          },
          "metadata": {
            "tags": []
          },
          "execution_count": 2
        }
      ]
    },
    {
      "cell_type": "code",
      "metadata": {
        "id": "WP6Qn0y6QaSi",
        "colab_type": "code",
        "colab": {
          "base_uri": "https://localhost:8080/",
          "height": 33
        },
        "outputId": "18b454cb-67bb-4353-f6fb-5541d79c11ae"
      },
      "source": [
        "df.shape"
      ],
      "execution_count": 3,
      "outputs": [
        {
          "output_type": "execute_result",
          "data": {
            "text/plain": [
              "(6019, 14)"
            ]
          },
          "metadata": {
            "tags": []
          },
          "execution_count": 3
        }
      ]
    },
    {
      "cell_type": "markdown",
      "metadata": {
        "id": "K9XrCcfCBhlK",
        "colab_type": "text"
      },
      "source": [
        "**Data Preprocessing**"
      ]
    },
    {
      "cell_type": "code",
      "metadata": {
        "id": "4rCmoSeH_0bk",
        "colab_type": "code",
        "colab": {}
      },
      "source": [
        "#Removing unnecesary strings values in columns \n",
        "df['Power'] = df['Power'].str.replace('bhp', '')\n",
        "df['Engine'] = df['Engine'].str.replace('CC','')\n",
        "df['Mileage'] = df['Mileage'].str.replace('kmpl', '')\n",
        "df['Mileage'] = df['Mileage'].str.replace('km/kg', '')"
      ],
      "execution_count": 4,
      "outputs": []
    },
    {
      "cell_type": "code",
      "metadata": {
        "id": "92ZVyBXUB1Y_",
        "colab_type": "code",
        "colab": {
          "base_uri": "https://localhost:8080/",
          "height": 261
        },
        "outputId": "ecfdc250-5b86-4539-bb27-ae04089c001f"
      },
      "source": [
        "#checking for datatypes \n",
        "df.dtypes"
      ],
      "execution_count": 5,
      "outputs": [
        {
          "output_type": "execute_result",
          "data": {
            "text/plain": [
              "Unnamed: 0             int64\n",
              "Name                  object\n",
              "Location              object\n",
              "Year                   int64\n",
              "Kilometers_Driven      int64\n",
              "Fuel_Type             object\n",
              "Transmission          object\n",
              "Owner_Type            object\n",
              "Mileage               object\n",
              "Engine                object\n",
              "Power                 object\n",
              "Seats                float64\n",
              "New_Price             object\n",
              "Price                float64\n",
              "dtype: object"
            ]
          },
          "metadata": {
            "tags": []
          },
          "execution_count": 5
        }
      ]
    },
    {
      "cell_type": "code",
      "metadata": {
        "id": "-bmZqGw7CvQm",
        "colab_type": "code",
        "colab": {}
      },
      "source": [
        "#converting datatypes for numerical columns \n",
        "df['Mileage'] = pd.to_numeric(df['Mileage'].astype(str).str[:-1], errors='coerce')\n",
        "df['Engine'] = pd.to_numeric(df['Engine'].astype(str).str[:-1], errors='coerce')\n",
        "df['Power'] = pd.to_numeric(df['Power'].astype(str).str[:-1], errors='coerce')"
      ],
      "execution_count": 6,
      "outputs": []
    },
    {
      "cell_type": "code",
      "metadata": {
        "id": "HEj0Kbw8DnCl",
        "colab_type": "code",
        "colab": {
          "base_uri": "https://localhost:8080/",
          "height": 261
        },
        "outputId": "2d3767a2-4124-4ef9-b9b2-5b4adff417fb"
      },
      "source": [
        "#checking for null values \n",
        "df.isnull().sum()"
      ],
      "execution_count": 7,
      "outputs": [
        {
          "output_type": "execute_result",
          "data": {
            "text/plain": [
              "Unnamed: 0              0\n",
              "Name                    0\n",
              "Location                0\n",
              "Year                    0\n",
              "Kilometers_Driven       0\n",
              "Fuel_Type               0\n",
              "Transmission            0\n",
              "Owner_Type              0\n",
              "Mileage                 2\n",
              "Engine                 36\n",
              "Power                 143\n",
              "Seats                  42\n",
              "New_Price            5195\n",
              "Price                   0\n",
              "dtype: int64"
            ]
          },
          "metadata": {
            "tags": []
          },
          "execution_count": 7
        }
      ]
    },
    {
      "cell_type": "code",
      "metadata": {
        "id": "A_8yq60vXwKh",
        "colab_type": "code",
        "colab": {}
      },
      "source": [
        "#dropping the columns \n",
        "df.drop(columns = ['Unnamed: 0', 'New_Price'], inplace = True) "
      ],
      "execution_count": 8,
      "outputs": []
    },
    {
      "cell_type": "code",
      "metadata": {
        "id": "z5Wn7QRvZXl4",
        "colab_type": "code",
        "colab": {}
      },
      "source": [
        "#filling the missing values with median as its more robust to outliers \n",
        "df[['Mileage','Engine', 'Power', 'Seats']] = df[['Mileage','Engine', 'Power', 'Seats']].apply(lambda x: x.fillna(x.median()),axis=0)"
      ],
      "execution_count": 9,
      "outputs": []
    },
    {
      "cell_type": "code",
      "metadata": {
        "id": "fFQDOnCYd6ix",
        "colab_type": "code",
        "colab": {
          "base_uri": "https://localhost:8080/",
          "height": 228
        },
        "outputId": "1c5e8950-b189-42da-e126-00720499b1f4"
      },
      "source": [
        "df.isnull().sum()"
      ],
      "execution_count": 10,
      "outputs": [
        {
          "output_type": "execute_result",
          "data": {
            "text/plain": [
              "Name                 0\n",
              "Location             0\n",
              "Year                 0\n",
              "Kilometers_Driven    0\n",
              "Fuel_Type            0\n",
              "Transmission         0\n",
              "Owner_Type           0\n",
              "Mileage              0\n",
              "Engine               0\n",
              "Power                0\n",
              "Seats                0\n",
              "Price                0\n",
              "dtype: int64"
            ]
          },
          "metadata": {
            "tags": []
          },
          "execution_count": 10
        }
      ]
    },
    {
      "cell_type": "code",
      "metadata": {
        "id": "pbb91dZh_Uu1",
        "colab_type": "code",
        "colab": {
          "base_uri": "https://localhost:8080/",
          "height": 326
        },
        "outputId": "1fc7ea9f-5ef4-4f04-d560-66b2b9d50f33"
      },
      "source": [
        "df.info()"
      ],
      "execution_count": 11,
      "outputs": [
        {
          "output_type": "stream",
          "text": [
            "<class 'pandas.core.frame.DataFrame'>\n",
            "RangeIndex: 6019 entries, 0 to 6018\n",
            "Data columns (total 12 columns):\n",
            " #   Column             Non-Null Count  Dtype  \n",
            "---  ------             --------------  -----  \n",
            " 0   Name               6019 non-null   object \n",
            " 1   Location           6019 non-null   object \n",
            " 2   Year               6019 non-null   int64  \n",
            " 3   Kilometers_Driven  6019 non-null   int64  \n",
            " 4   Fuel_Type          6019 non-null   object \n",
            " 5   Transmission       6019 non-null   object \n",
            " 6   Owner_Type         6019 non-null   object \n",
            " 7   Mileage            6019 non-null   float64\n",
            " 8   Engine             6019 non-null   float64\n",
            " 9   Power              6019 non-null   float64\n",
            " 10  Seats              6019 non-null   float64\n",
            " 11  Price              6019 non-null   float64\n",
            "dtypes: float64(5), int64(2), object(5)\n",
            "memory usage: 564.4+ KB\n"
          ],
          "name": "stdout"
        }
      ]
    },
    {
      "cell_type": "code",
      "metadata": {
        "id": "pCghm5w273Lx",
        "colab_type": "code",
        "colab": {}
      },
      "source": [
        "#!pip install https://github.com/pandas-profiling/pandas-profiling/archive/master.zip"
      ],
      "execution_count": 12,
      "outputs": []
    },
    {
      "cell_type": "code",
      "metadata": {
        "id": "hpmhFBD_fP-4",
        "colab_type": "code",
        "colab": {}
      },
      "source": [
        "#from pandas_profiling import ProfileReport\n",
        "#report = ProfileReport(df, explorative= True)\n",
        "#report"
      ],
      "execution_count": 13,
      "outputs": []
    },
    {
      "cell_type": "code",
      "metadata": {
        "id": "mKYxQE06iuPA",
        "colab_type": "code",
        "colab": {
          "base_uri": "https://localhost:8080/",
          "height": 511
        },
        "outputId": "7b3db74f-883d-4c2b-db47-9715eac15fce"
      },
      "source": [
        "df.boxplot(figsize=(20,8))"
      ],
      "execution_count": 14,
      "outputs": [
        {
          "output_type": "execute_result",
          "data": {
            "text/plain": [
              "<matplotlib.axes._subplots.AxesSubplot at 0x7fbceb3e9a20>"
            ]
          },
          "metadata": {
            "tags": []
          },
          "execution_count": 14
        },
        {
          "output_type": "display_data",
          "data": {
            "image/png": "[encoded data removed]",
            "text/plain": [
              "<Figure size 1440x576 with 1 Axes>"
            ]
          },
          "metadata": {
            "tags": [],
            "needs_background": "light"
          }
        }
      ]
    },
    {
      "cell_type": "code",
      "metadata": {
        "id": "V6OXSnfMmyC-",
        "colab_type": "code",
        "colab": {
          "base_uri": "https://localhost:8080/",
          "height": 33
        },
        "outputId": "8ebb6dbf-b724-4487-ed66-030263a80624"
      },
      "source": [
        "#Using Log transform for Outlier treatment\n",
        "\n",
        "df[\"Kilometers_Driven\"] = df[\"Kilometers_Driven\"].map(lambda i: np.log(i) if i > 0 else 0)\n",
        "print(df['Kilometers_Driven'].skew())"
      ],
      "execution_count": 15,
      "outputs": [
        {
          "output_type": "stream",
          "text": [
            "-1.29076524053299\n"
          ],
          "name": "stdout"
        }
      ]
    },
    {
      "cell_type": "code",
      "metadata": {
        "id": "-LaqchuXhXbf",
        "colab_type": "code",
        "colab": {
          "base_uri": "https://localhost:8080/",
          "height": 212
        },
        "outputId": "05dd2a31-a33f-4a7d-dac6-fa5999fba18b"
      },
      "source": [
        "df['Year']"
      ],
      "execution_count": 16,
      "outputs": [
        {
          "output_type": "execute_result",
          "data": {
            "text/plain": [
              "0       2010\n",
              "1       2015\n",
              "2       2011\n",
              "3       2012\n",
              "4       2013\n",
              "        ... \n",
              "6014    2014\n",
              "6015    2015\n",
              "6016    2012\n",
              "6017    2013\n",
              "6018    2011\n",
              "Name: Year, Length: 6019, dtype: int64"
            ]
          },
          "metadata": {
            "tags": []
          },
          "execution_count": 16
        }
      ]
    },
    {
      "cell_type": "code",
      "metadata": {
        "id": "kZCSAaxjv_5J",
        "colab_type": "code",
        "colab": {
          "base_uri": "https://localhost:8080/",
          "height": 50
        },
        "outputId": "9852a6d0-52fd-46f9-b050-6bc60c6c34bf"
      },
      "source": [
        "#Using Median value for outlier treatment\n",
        "print(df['Year'].quantile(0.50)) \n",
        "print(df['Year'].quantile(0.95))"
      ],
      "execution_count": 17,
      "outputs": [
        {
          "output_type": "stream",
          "text": [
            "2014.0\n",
            "2018.0\n"
          ],
          "name": "stdout"
        }
      ]
    },
    {
      "cell_type": "code",
      "metadata": {
        "id": "WzK2ilhWwK2M",
        "colab_type": "code",
        "colab": {}
      },
      "source": [
        "df['Year'] = np.where(df['Year'] > 2018.0, 2014.0, df['Year'])"
      ],
      "execution_count": 18,
      "outputs": []
    },
    {
      "cell_type": "code",
      "metadata": {
        "id": "jySBEzTOwWN3",
        "colab_type": "code",
        "colab": {
          "base_uri": "https://localhost:8080/",
          "height": 283
        },
        "outputId": "d8048fc9-af7b-4f95-fda6-75a809e29b07"
      },
      "source": [
        "df.boxplot(column=['Mileage'])"
      ],
      "execution_count": 19,
      "outputs": [
        {
          "output_type": "execute_result",
          "data": {
            "text/plain": [
              "<matplotlib.axes._subplots.AxesSubplot at 0x7fbceb2154a8>"
            ]
          },
          "metadata": {
            "tags": []
          },
          "execution_count": 19
        },
        {
          "output_type": "display_data",
          "data": {
            "image/png": "[encoded data removed]",
            "text/plain": [
              "<Figure size 432x288 with 1 Axes>"
            ]
          },
          "metadata": {
            "tags": [],
            "needs_background": "light"
          }
        }
      ]
    },
    {
      "cell_type": "code",
      "metadata": {
        "id": "db0iQjlXwdA5",
        "colab_type": "code",
        "colab": {
          "base_uri": "https://localhost:8080/",
          "height": 50
        },
        "outputId": "82349ed5-57b3-4047-c9de-f322bbac31e9"
      },
      "source": [
        "#Using Quantile for outlier treatment\n",
        "print(df['Mileage'].quantile(0.10))\n",
        "print(df['Mileage'].quantile(0.90))"
      ],
      "execution_count": 20,
      "outputs": [
        {
          "output_type": "stream",
          "text": [
            "12.8\n",
            "24.0\n"
          ],
          "name": "stdout"
        }
      ]
    },
    {
      "cell_type": "code",
      "metadata": {
        "id": "7AFPynqLwlwz",
        "colab_type": "code",
        "colab": {}
      },
      "source": [
        "df[\"Mileage\"] = np.where(df[\"Mileage\"] <df['Mileage'].quantile(0.10), df['Mileage'].quantile(0.10),df['Mileage'])\n",
        "df[\"Mileage\"] = np.where(df[\"Mileage\"] >df['Mileage'].quantile(0.90), df['Mileage'].quantile(0.90),df['Mileage'])"
      ],
      "execution_count": 21,
      "outputs": []
    },
    {
      "cell_type": "markdown",
      "metadata": {
        "id": "f82hQGe5xBSJ",
        "colab_type": "text"
      },
      "source": [
        "Using the same method for treating other outliers too"
      ]
    },
    {
      "cell_type": "code",
      "metadata": {
        "id": "PLHyUA4dw72l",
        "colab_type": "code",
        "colab": {
          "base_uri": "https://localhost:8080/",
          "height": 50
        },
        "outputId": "2d664830-98d4-422c-aca4-3ee6fbb9f68e"
      },
      "source": [
        "print(df['Engine'].quantile(0.10))\n",
        "print(df['Engine'].quantile(0.90))"
      ],
      "execution_count": 22,
      "outputs": [
        {
          "output_type": "stream",
          "text": [
            "1061.0\n",
            "2494.0\n"
          ],
          "name": "stdout"
        }
      ]
    },
    {
      "cell_type": "code",
      "metadata": {
        "id": "I9uBnRK8xNVo",
        "colab_type": "code",
        "colab": {}
      },
      "source": [
        "df[\"Engine\"] = np.where(df[\"Engine\"] <1061.0, 1061.0,df['Engine'])\n",
        "df[\"Engine\"] = np.where(df[\"Engine\"] >2494.0, 2494.0,df['Engine'])"
      ],
      "execution_count": 23,
      "outputs": []
    },
    {
      "cell_type": "code",
      "metadata": {
        "id": "zK7xoku-xX2O",
        "colab_type": "code",
        "colab": {
          "base_uri": "https://localhost:8080/",
          "height": 50
        },
        "outputId": "223e34da-4863-4532-93a6-ef2eb29ec428"
      },
      "source": [
        "print(df['Power'].quantile(0.10))\n",
        "print(df['Power'].quantile(0.90))"
      ],
      "execution_count": 24,
      "outputs": [
        {
          "output_type": "stream",
          "text": [
            "67.04\n",
            "184.0\n"
          ],
          "name": "stdout"
        }
      ]
    },
    {
      "cell_type": "code",
      "metadata": {
        "id": "Bg2rfXuexdaO",
        "colab_type": "code",
        "colab": {}
      },
      "source": [
        "df[\"Power\"] = np.where(df[\"Power\"] <67.04, 67.04,df['Power'])\n",
        "df[\"Power\"] = np.where(df[\"Power\"] >184.0, 184.0,df['Power'])"
      ],
      "execution_count": 25,
      "outputs": []
    },
    {
      "cell_type": "code",
      "metadata": {
        "id": "KdTvRQVRxooT",
        "colab_type": "code",
        "colab": {}
      },
      "source": [
        "df[\"Seats\"] = np.where(df[\"Seats\"] <df['Seats'].quantile(0.10), df['Seats'].quantile(0.10),df['Seats'])\n",
        "df[\"Seats\"] = np.where(df[\"Seats\"] >df['Seats'].quantile(0.90), df['Seats'].quantile(0.90),df['Seats'])"
      ],
      "execution_count": 26,
      "outputs": []
    },
    {
      "cell_type": "code",
      "metadata": {
        "id": "ptIIWhy3x5C5",
        "colab_type": "code",
        "colab": {}
      },
      "source": [
        "df[\"Price\"] = np.where(df[\"Price\"] <df['Price'].quantile(0.10), df['Price'].quantile(0.10),df['Price'])\n",
        "df[\"Price\"] = np.where(df[\"Price\"] >df['Price'].quantile(0.90), df['Price'].quantile(0.90),df['Price'])"
      ],
      "execution_count": 27,
      "outputs": []
    },
    {
      "cell_type": "code",
      "metadata": {
        "id": "H66DRXBjyIP_",
        "colab_type": "code",
        "colab": {
          "base_uri": "https://localhost:8080/",
          "height": 500
        },
        "outputId": "f004f148-cc27-4d8b-8745-255940375f95"
      },
      "source": [
        "#dataset after treating outliers. \n",
        "df.boxplot(figsize=(20,8))"
      ],
      "execution_count": 28,
      "outputs": [
        {
          "output_type": "execute_result",
          "data": {
            "text/plain": [
              "<matplotlib.axes._subplots.AxesSubplot at 0x7fbcead3f400>"
            ]
          },
          "metadata": {
            "tags": []
          },
          "execution_count": 28
        },
        {
          "output_type": "display_data",
          "data": {
            "image/png": "[encoded data removed]",
            "text/plain": [
              "<Figure size 1440x576 with 1 Axes>"
            ]
          },
          "metadata": {
            "tags": [],
            "needs_background": "light"
          }
        }
      ]
    },
    {
      "cell_type": "markdown",
      "metadata": {
        "id": "UoqeWCcOyXyC",
        "colab_type": "text"
      },
      "source": [
        "**Data Visualization**"
      ]
    },
    {
      "cell_type": "code",
      "metadata": {
        "id": "WuEatvBeyThi",
        "colab_type": "code",
        "colab": {
          "base_uri": "https://localhost:8080/",
          "height": 606
        },
        "outputId": "b4f899c8-7015-44d3-ae4d-b1f2236461db"
      },
      "source": [
        "#does year effect the price\n",
        "plt.figure(figsize=(18,10))\n",
        "sns.lineplot(x=\"Year\", y=\"Price\", data=df)\n",
        "plt.show()"
      ],
      "execution_count": 29,
      "outputs": [
        {
          "output_type": "display_data",
          "data": {
            "image/png": "[encoded data removed]",
            "text/plain": [
              "<Figure size 1296x720 with 1 Axes>"
            ]
          },
          "metadata": {
            "tags": [],
            "needs_background": "light"
          }
        }
      ]
    },
    {
      "cell_type": "markdown",
      "metadata": {
        "id": "eOQEwg1Nyz7k",
        "colab_type": "text"
      },
      "source": [
        "Price and year are directly proportional to each other. As 90's cars had few features and less models compared to 20's cars with several new features and model options. "
      ]
    },
    {
      "cell_type": "code",
      "metadata": {
        "id": "mje2_jQWzNK-",
        "colab_type": "code",
        "colab": {
          "base_uri": "https://localhost:8080/",
          "height": 606
        },
        "outputId": "dbdc194b-b4a2-4599-b481-1b14a070c12a"
      },
      "source": [
        "#does transmission effect price\n",
        "plt.figure(figsize=(18,10))\n",
        "sns.lineplot(x=\"Year\", y=\"Price\", hue='Transmission', data=df)\n",
        "plt.show()"
      ],
      "execution_count": 30,
      "outputs": [
        {
          "output_type": "display_data",
          "data": {
            "image/png": "[encoded data removed]",
            "text/plain": [
              "<Figure size 1296x720 with 1 Axes>"
            ]
          },
          "metadata": {
            "tags": [],
            "needs_background": "light"
          }
        }
      ]
    },
    {
      "cell_type": "markdown",
      "metadata": {
        "id": "jLYjrCS8zgTo",
        "colab_type": "text"
      },
      "source": [
        "Manual transmission cost less than Automatic cars due to less complicated transmission system. Cost of Automatic Cars will always be high compared to Manual and they require less effort to drive in City traffic (People prefer to buy this more)"
      ]
    },
    {
      "cell_type": "code",
      "metadata": {
        "id": "AzlIpaUfz7kG",
        "colab_type": "code",
        "colab": {
          "base_uri": "https://localhost:8080/",
          "height": 390
        },
        "outputId": "23fdbb4e-2c9f-4c3a-da02-123fff46c564"
      },
      "source": [
        "#why automatic transmissions costs more than manual\n",
        "plt.figure(figsize=(8,6))\n",
        "sns.barplot(x=\"Transmission\", y=\"Power\", data=df)\n",
        "plt.show()"
      ],
      "execution_count": 31,
      "outputs": [
        {
          "output_type": "display_data",
          "data": {
            "image/png": "[encoded data removed]",
            "text/plain": [
              "<Figure size 576x432 with 1 Axes>"
            ]
          },
          "metadata": {
            "tags": [],
            "needs_background": "light"
          }
        }
      ]
    },
    {
      "cell_type": "markdown",
      "metadata": {
        "id": "adCFbry-0Tq4",
        "colab_type": "text"
      },
      "source": [
        "Automatic transmission car engine tend to produce more as they can change gear ratio automatically i.e. no power loss due to mechanical parts like Clutches, Gear setup in Manual."
      ]
    },
    {
      "cell_type": "code",
      "metadata": {
        "id": "rqCCi_CGzZdV",
        "colab_type": "code",
        "colab": {
          "base_uri": "https://localhost:8080/",
          "height": 391
        },
        "outputId": "a6840932-df44-45b3-ab87-050dfdad00f1"
      },
      "source": [
        "plt.figure(figsize=(8,6))\n",
        "sns.barplot(x=\"Transmission\", y=\"Mileage\", data=df)\n",
        "plt.show()"
      ],
      "execution_count": 32,
      "outputs": [
        {
          "output_type": "display_data",
          "data": {
            "image/png": "[encoded data removed]",
            "text/plain": [
              "<Figure size 576x432 with 1 Axes>"
            ]
          },
          "metadata": {
            "tags": [],
            "needs_background": "light"
          }
        }
      ]
    },
    {
      "cell_type": "markdown",
      "metadata": {
        "id": "ctLplgBq1wHr",
        "colab_type": "text"
      },
      "source": [
        "Manual cars always get better fuel economy than cars with automatic gearboxes. With a manual transmission because the motor is not having to work as hard to shift between gears and therefore the car doesn't consume as much gas."
      ]
    },
    {
      "cell_type": "code",
      "metadata": {
        "id": "8nCbRPcw2PSX",
        "colab_type": "code",
        "colab": {
          "base_uri": "https://localhost:8080/",
          "height": 462
        },
        "outputId": "1befa747-73d0-4ba0-9e18-de35d3ec5917"
      },
      "source": [
        "#which city has more #of sales \n",
        "plt.rcParams['figure.figsize'] = (18, 7)\n",
        "sns.countplot(df['Location'], palette = 'pastel')\n",
        "plt.title('City with most sales', fontsize = 20)\n",
        "plt.show()"
      ],
      "execution_count": 33,
      "outputs": [
        {
          "output_type": "display_data",
          "data": {
            "image/png": "[encoded data removed]",
            "text/plain": [
              "<Figure size 1296x504 with 1 Axes>"
            ]
          },
          "metadata": {
            "tags": [],
            "needs_background": "light"
          }
        }
      ]
    },
    {
      "cell_type": "code",
      "metadata": {
        "id": "ctGK_SZW2ky_",
        "colab_type": "code",
        "colab": {
          "base_uri": "https://localhost:8080/",
          "height": 408
        },
        "outputId": "c187a3f9-a2a9-43f8-de18-633536706302"
      },
      "source": [
        "#Preferred Transmission type\n",
        "plt.rcParams['figure.figsize'] = (8, 6)\n",
        "sns.countplot(df['Transmission'], palette = 'pastel')\n",
        "plt.title('Preffered Transmission type', fontsize = 20)\n",
        "plt.show()"
      ],
      "execution_count": 34,
      "outputs": [
        {
          "output_type": "display_data",
          "data": {
            "image/png": "[encoded data removed]",
            "text/plain": [
              "<Figure size 576x432 with 1 Axes>"
            ]
          },
          "metadata": {
            "tags": [],
            "needs_background": "light"
          }
        }
      ]
    },
    {
      "cell_type": "code",
      "metadata": {
        "id": "GpX7nk4K20Zp",
        "colab_type": "code",
        "colab": {
          "base_uri": "https://localhost:8080/",
          "height": 410
        },
        "outputId": "1371613e-fcb2-4db9-a5a6-e64b870f1d88"
      },
      "source": [
        "#preferred fuel type \n",
        "plt.rcParams['figure.figsize'] = (8, 6)\n",
        "sns.countplot(df['Fuel_Type'], palette = 'pastel')\n",
        "plt.title('Preffered Fuel Type', fontsize = 20)\n",
        "plt.show()"
      ],
      "execution_count": 35,
      "outputs": [
        {
          "output_type": "display_data",
          "data": {
            "image/png": "[encoded data removed]",
            "text/plain": [
              "<Figure size 576x432 with 1 Axes>"
            ]
          },
          "metadata": {
            "tags": [],
            "needs_background": "light"
          }
        }
      ]
    },
    {
      "cell_type": "code",
      "metadata": {
        "id": "L-ydOxCV3BNZ",
        "colab_type": "code",
        "colab": {
          "base_uri": "https://localhost:8080/",
          "height": 522
        },
        "outputId": "ebf5d84b-f7ba-4552-a8f4-745e47760778"
      },
      "source": [
        "#which year has the max #of sales\n",
        "plt.figure(figsize = (20, 8))\n",
        "ax = sns.countplot(x = 'Year', data = df, palette = 'dark')\n",
        "ax.set_title(label = 'Sales per year', fontsize = 20)\n",
        "ax.set_xlabel(xlabel = 'Year', fontsize = 16)\n",
        "ax.set_ylabel(ylabel = 'Count of car sales', fontsize = 16)\n",
        "plt.show()"
      ],
      "execution_count": 36,
      "outputs": [
        {
          "output_type": "display_data",
          "data": {
            "image/png": "[encoded data removed]",
            "text/plain": [
              "<Figure size 1440x576 with 1 Axes>"
            ]
          },
          "metadata": {
            "tags": [],
            "needs_background": "light"
          }
        }
      ]
    },
    {
      "cell_type": "code",
      "metadata": {
        "id": "BtXkuQwr3hSq",
        "colab_type": "code",
        "colab": {
          "base_uri": "https://localhost:8080/",
          "height": 597
        },
        "outputId": "53fd0a79-79d2-4154-9eb1-06afcffb36a8"
      },
      "source": [
        "#top 15 cars\n",
        "\n",
        "df['Name'].value_counts().head(15).plot.bar(color = 'orange', figsize = (20, 7))\n",
        "plt.title('Top 15 sold Cars', fontsize = 30, fontweight = 20)\n",
        "plt.xlabel('Name of the car')\n",
        "plt.ylabel('count')\n",
        "plt.show()"
      ],
      "execution_count": 37,
      "outputs": [
        {
          "output_type": "display_data",
          "data": {
            "image/png": "[encoded data removed]",
            "text/plain": [
              "<Figure size 1440x504 with 1 Axes>"
            ]
          },
          "metadata": {
            "tags": [],
            "needs_background": "light"
          }
        }
      ]
    },
    {
      "cell_type": "markdown",
      "metadata": {
        "id": "3Xpb55R34FHh",
        "colab_type": "text"
      },
      "source": [
        "Mahindra XUV had highest sales"
      ]
    },
    {
      "cell_type": "markdown",
      "metadata": {
        "id": "6pWz6cgx4MZZ",
        "colab_type": "text"
      },
      "source": [
        "### Treating Categorical columns"
      ]
    },
    {
      "cell_type": "code",
      "metadata": {
        "id": "BEXXgTtB3tVX",
        "colab_type": "code",
        "colab": {
          "base_uri": "https://localhost:8080/",
          "height": 191
        },
        "outputId": "a52bd814-83b4-48be-c3de-9587cf80a1cb"
      },
      "source": [
        "df.head()"
      ],
      "execution_count": 38,
      "outputs": [
        {
          "output_type": "execute_result",
          "data": {
            "text/html": [
              "<div>\n",
              "<style scoped>\n",
              "    .dataframe tbody tr th:only-of-type {\n",
              "        vertical-align: middle;\n",
              "    }\n",
              "\n",
              "    .dataframe tbody tr th {\n",
              "        vertical-align: top;\n",
              "    }\n",
              "\n",
              "    .dataframe thead th {\n",
              "        text-align: right;\n",
              "    }\n",
              "</style>\n",
              "<table border=\"1\" class=\"dataframe\">\n",
              "  <thead>\n",
              "    <tr style=\"text-align: right;\">\n",
              "      <th></th>\n",
              "      <th>Name</th>\n",
              "      <th>Location</th>\n",
              "      <th>Year</th>\n",
              "      <th>Kilometers_Driven</th>\n",
              "      <th>Fuel_Type</th>\n",
              "      <th>Transmission</th>\n",
              "      <th>Owner_Type</th>\n",
              "      <th>Mileage</th>\n",
              "      <th>Engine</th>\n",
              "      <th>Power</th>\n",
              "      <th>Seats</th>\n",
              "      <th>Price</th>\n",
              "    </tr>\n",
              "  </thead>\n",
              "  <tbody>\n",
              "    <tr>\n",
              "      <th>0</th>\n",
              "      <td>Maruti Wagon R LXI CNG</td>\n",
              "      <td>Mumbai</td>\n",
              "      <td>2010.0</td>\n",
              "      <td>11.184421</td>\n",
              "      <td>CNG</td>\n",
              "      <td>Manual</td>\n",
              "      <td>First</td>\n",
              "      <td>24.00</td>\n",
              "      <td>1061.0</td>\n",
              "      <td>67.04</td>\n",
              "      <td>5.0</td>\n",
              "      <td>2.30</td>\n",
              "    </tr>\n",
              "    <tr>\n",
              "      <th>1</th>\n",
              "      <td>Hyundai Creta 1.6 CRDi SX Option</td>\n",
              "      <td>Pune</td>\n",
              "      <td>2015.0</td>\n",
              "      <td>10.621327</td>\n",
              "      <td>Diesel</td>\n",
              "      <td>Manual</td>\n",
              "      <td>First</td>\n",
              "      <td>19.67</td>\n",
              "      <td>1582.0</td>\n",
              "      <td>126.20</td>\n",
              "      <td>5.0</td>\n",
              "      <td>12.50</td>\n",
              "    </tr>\n",
              "    <tr>\n",
              "      <th>2</th>\n",
              "      <td>Honda Jazz V</td>\n",
              "      <td>Chennai</td>\n",
              "      <td>2011.0</td>\n",
              "      <td>10.736397</td>\n",
              "      <td>Petrol</td>\n",
              "      <td>Manual</td>\n",
              "      <td>First</td>\n",
              "      <td>18.20</td>\n",
              "      <td>1199.0</td>\n",
              "      <td>88.70</td>\n",
              "      <td>5.0</td>\n",
              "      <td>4.50</td>\n",
              "    </tr>\n",
              "    <tr>\n",
              "      <th>3</th>\n",
              "      <td>Maruti Ertiga VDI</td>\n",
              "      <td>Chennai</td>\n",
              "      <td>2012.0</td>\n",
              "      <td>11.373663</td>\n",
              "      <td>Diesel</td>\n",
              "      <td>Manual</td>\n",
              "      <td>First</td>\n",
              "      <td>20.77</td>\n",
              "      <td>1248.0</td>\n",
              "      <td>88.76</td>\n",
              "      <td>7.0</td>\n",
              "      <td>6.00</td>\n",
              "    </tr>\n",
              "    <tr>\n",
              "      <th>4</th>\n",
              "      <td>Audi A4 New 2.0 TDI Multitronic</td>\n",
              "      <td>Coimbatore</td>\n",
              "      <td>2013.0</td>\n",
              "      <td>10.613246</td>\n",
              "      <td>Diesel</td>\n",
              "      <td>Automatic</td>\n",
              "      <td>Second</td>\n",
              "      <td>15.20</td>\n",
              "      <td>1968.0</td>\n",
              "      <td>140.80</td>\n",
              "      <td>5.0</td>\n",
              "      <td>17.74</td>\n",
              "    </tr>\n",
              "  </tbody>\n",
              "</table>\n",
              "</div>"
            ],
            "text/plain": [
              "                               Name    Location    Year  ...   Power Seats  Price\n",
              "0            Maruti Wagon R LXI CNG      Mumbai  2010.0  ...   67.04   5.0   2.30\n",
              "1  Hyundai Creta 1.6 CRDi SX Option        Pune  2015.0  ...  126.20   5.0  12.50\n",
              "2                      Honda Jazz V     Chennai  2011.0  ...   88.70   5.0   4.50\n",
              "3                 Maruti Ertiga VDI     Chennai  2012.0  ...   88.76   7.0   6.00\n",
              "4   Audi A4 New 2.0 TDI Multitronic  Coimbatore  2013.0  ...  140.80   5.0  17.74\n",
              "\n",
              "[5 rows x 12 columns]"
            ]
          },
          "metadata": {
            "tags": []
          },
          "execution_count": 38
        }
      ]
    },
    {
      "cell_type": "code",
      "metadata": {
        "id": "Yrp6VdRd3Q1g",
        "colab_type": "code",
        "colab": {}
      },
      "source": [
        "#Columns with string values\n",
        "categorical_column = ['Location', 'Fuel_Type',\n",
        "                      'Transmission', 'Owner_Type']"
      ],
      "execution_count": 39,
      "outputs": []
    },
    {
      "cell_type": "code",
      "metadata": {
        "id": "JetMrLzp4fjT",
        "colab_type": "code",
        "colab": {
          "base_uri": "https://localhost:8080/",
          "height": 147
        },
        "outputId": "2cbf7acd-b42d-464f-ba77-7f188de02e26"
      },
      "source": [
        "\n",
        "#Deep copy the original data\n",
        "df = df.copy(deep= True)\n",
        "#Use Scikit-learn label encoding to encode character data\n",
        "lab_enc = preprocessing.LabelEncoder()\n",
        "for col in categorical_column:\n",
        "        df[col] = lab_enc.fit_transform(df[col])\n",
        "        le_name_mapping = dict(zip(lab_enc.classes_, lab_enc.transform(lab_enc.classes_)))\n",
        "        print('Feature', col)\n",
        "        print('mapping', le_name_mapping)"
      ],
      "execution_count": 40,
      "outputs": [
        {
          "output_type": "stream",
          "text": [
            "Feature Location\n",
            "mapping {'Ahmedabad': 0, 'Bangalore': 1, 'Chennai': 2, 'Coimbatore': 3, 'Delhi': 4, 'Hyderabad': 5, 'Jaipur': 6, 'Kochi': 7, 'Kolkata': 8, 'Mumbai': 9, 'Pune': 10}\n",
            "Feature Fuel_Type\n",
            "mapping {'CNG': 0, 'Diesel': 1, 'Electric': 2, 'LPG': 3, 'Petrol': 4}\n",
            "Feature Transmission\n",
            "mapping {'Automatic': 0, 'Manual': 1}\n",
            "Feature Owner_Type\n",
            "mapping {'First': 0, 'Fourth & Above': 1, 'Second': 2, 'Third': 3}\n"
          ],
          "name": "stdout"
        }
      ]
    },
    {
      "cell_type": "code",
      "metadata": {
        "id": "evkVykrC8C-X",
        "colab_type": "code",
        "colab": {}
      },
      "source": [
        "#Using pandas get dummies function, for names column\n",
        "df_dummies = pd.get_dummies(df.Name,drop_first=True)"
      ],
      "execution_count": 45,
      "outputs": []
    },
    {
      "cell_type": "code",
      "metadata": {
        "id": "7YPE9mvv8rNV",
        "colab_type": "code",
        "colab": {}
      },
      "source": [
        "df= pd.concat([df,df_dummies], axis = 'columns')"
      ],
      "execution_count": 47,
      "outputs": []
    },
    {
      "cell_type": "code",
      "metadata": {
        "id": "BTtUOEvM5Lol",
        "colab_type": "code",
        "colab": {
          "base_uri": "https://localhost:8080/",
          "height": 482
        },
        "outputId": "df6d5ac0-a7e4-4b8c-8dc6-347ca6c79967"
      },
      "source": [
        "df.head()"
      ],
      "execution_count": 48,
      "outputs": [
        {
          "output_type": "execute_result",
          "data": {
            "text/html": [
              "<div>\n",
              "<style scoped>\n",
              "    .dataframe tbody tr th:only-of-type {\n",
              "        vertical-align: middle;\n",
              "    }\n",
              "\n",
              "    .dataframe tbody tr th {\n",
              "        vertical-align: top;\n",
              "    }\n",
              "\n",
              "    .dataframe thead th {\n",
              "        text-align: right;\n",
              "    }\n",
              "</style>\n",
              "<table border=\"1\" class=\"dataframe\">\n",
              "  <thead>\n",
              "    <tr style=\"text-align: right;\">\n",
              "      <th></th>\n",
              "      <th>Name</th>\n",
              "      <th>Location</th>\n",
              "      <th>Year</th>\n",
              "      <th>Kilometers_Driven</th>\n",
              "      <th>Fuel_Type</th>\n",
              "      <th>Transmission</th>\n",
              "      <th>Owner_Type</th>\n",
              "      <th>Mileage</th>\n",
              "      <th>Engine</th>\n",
              "      <th>Power</th>\n",
              "      <th>Seats</th>\n",
              "      <th>Price</th>\n",
              "      <th>Audi A3 35 TDI Attraction</th>\n",
              "      <th>Audi A3 35 TDI Premium</th>\n",
              "      <th>Audi A3 35 TDI Premium Plus</th>\n",
              "      <th>Audi A3 35 TDI Technology</th>\n",
              "      <th>Audi A4 1.8 TFSI</th>\n",
              "      <th>Audi A4 1.8 TFSI Technology Edition</th>\n",
              "      <th>Audi A4 2.0 TDI</th>\n",
              "      <th>Audi A4 2.0 TDI 177 Bhp Premium Plus</th>\n",
              "      <th>Audi A4 2.0 TDI 177 Bhp Technology Edition</th>\n",
              "      <th>Audi A4 2.0 TDI Celebration Edition</th>\n",
              "      <th>Audi A4 2.0 TDI Multitronic</th>\n",
              "      <th>Audi A4 2.0 TDI Premium Sport Limited Edition</th>\n",
              "      <th>Audi A4 2.0 TFSI</th>\n",
              "      <th>Audi A4 3.0 TDI Quattro</th>\n",
              "      <th>Audi A4 3.0 TDI Quattro Premium</th>\n",
              "      <th>Audi A4 3.2 FSI Tiptronic Quattro</th>\n",
              "      <th>Audi A4 30 TFSI Premium Plus</th>\n",
              "      <th>Audi A4 35 TDI Premium</th>\n",
              "      <th>Audi A4 35 TDI Premium Plus</th>\n",
              "      <th>Audi A4 35 TDI Premium Sport</th>\n",
              "      <th>Audi A4 35 TDI Technology</th>\n",
              "      <th>Audi A4 35 TDI Technology Edition</th>\n",
              "      <th>Audi A4 New 2.0 TDI Multitronic</th>\n",
              "      <th>Audi A6 2.0 TDI Design Edition</th>\n",
              "      <th>Audi A6 2.7 TDI</th>\n",
              "      <th>Audi A6 2.8 FSI</th>\n",
              "      <th>Audi A6 2011-2015 2.0 TDI</th>\n",
              "      <th>Audi A6 2011-2015 2.0 TDI Premium Plus</th>\n",
              "      <th>...</th>\n",
              "      <th>Volkswagen Vento 1.2 TSI Highline AT</th>\n",
              "      <th>Volkswagen Vento 1.5 Highline Plus AT 16 Alloy</th>\n",
              "      <th>Volkswagen Vento 1.5 TDI Comfortline</th>\n",
              "      <th>Volkswagen Vento 1.5 TDI Comfortline AT</th>\n",
              "      <th>Volkswagen Vento 1.5 TDI Highline</th>\n",
              "      <th>Volkswagen Vento 1.5 TDI Highline AT</th>\n",
              "      <th>Volkswagen Vento 1.5 TDI Trendline</th>\n",
              "      <th>Volkswagen Vento 1.6 Comfortline</th>\n",
              "      <th>Volkswagen Vento 1.6 Highline</th>\n",
              "      <th>Volkswagen Vento 2013-2015 1.6 Comfortline</th>\n",
              "      <th>Volkswagen Vento Diesel Breeze</th>\n",
              "      <th>Volkswagen Vento Diesel Comfortline</th>\n",
              "      <th>Volkswagen Vento Diesel Highline</th>\n",
              "      <th>Volkswagen Vento Diesel Trendline</th>\n",
              "      <th>Volkswagen Vento IPL II Petrol Highline AT</th>\n",
              "      <th>Volkswagen Vento IPL II Petrol Trendline</th>\n",
              "      <th>Volkswagen Vento Konekt Diesel Highline</th>\n",
              "      <th>Volkswagen Vento Magnific 1.6 Comfortline</th>\n",
              "      <th>Volkswagen Vento Petrol Comfortline</th>\n",
              "      <th>Volkswagen Vento Petrol Highline</th>\n",
              "      <th>Volkswagen Vento Petrol Highline AT</th>\n",
              "      <th>Volkswagen Vento Petrol Trendline</th>\n",
              "      <th>Volkswagen Vento Sport 1.2 TSI AT</th>\n",
              "      <th>Volkswagen Vento TSI</th>\n",
              "      <th>Volvo S60 D3</th>\n",
              "      <th>Volvo S60 D4 KINETIC</th>\n",
              "      <th>Volvo S60 D4 Momentum</th>\n",
              "      <th>Volvo S60 D4 SUMMUM</th>\n",
              "      <th>Volvo S60 D5 Summum</th>\n",
              "      <th>Volvo S80 2006-2013 D5</th>\n",
              "      <th>Volvo S80 D5</th>\n",
              "      <th>Volvo V40 Cross Country D3</th>\n",
              "      <th>Volvo V40 D3</th>\n",
              "      <th>Volvo V40 D3 R Design</th>\n",
              "      <th>Volvo XC60 D4 SUMMUM</th>\n",
              "      <th>Volvo XC60 D4 Summum</th>\n",
              "      <th>Volvo XC60 D5</th>\n",
              "      <th>Volvo XC60 D5 Inscription</th>\n",
              "      <th>Volvo XC90 2007-2015 D5 AT AWD</th>\n",
              "      <th>Volvo XC90 2007-2015 D5 AWD</th>\n",
              "    </tr>\n",
              "  </thead>\n",
              "  <tbody>\n",
              "    <tr>\n",
              "      <th>0</th>\n",
              "      <td>Maruti Wagon R LXI CNG</td>\n",
              "      <td>9</td>\n",
              "      <td>2010.0</td>\n",
              "      <td>11.184421</td>\n",
              "      <td>0</td>\n",
              "      <td>1</td>\n",
              "      <td>0</td>\n",
              "      <td>24.00</td>\n",
              "      <td>1061.0</td>\n",
              "      <td>67.04</td>\n",
              "      <td>5.0</td>\n",
              "      <td>2.30</td>\n",
              "      <td>0</td>\n",
              "      <td>0</td>\n",
              "      <td>0</td>\n",
              "      <td>0</td>\n",
              "      <td>0</td>\n",
              "      <td>0</td>\n",
              "      <td>0</td>\n",
              "      <td>0</td>\n",
              "      <td>0</td>\n",
              "      <td>0</td>\n",
              "      <td>0</td>\n",
              "      <td>0</td>\n",
              "      <td>0</td>\n",
              "      <td>0</td>\n",
              "      <td>0</td>\n",
              "      <td>0</td>\n",
              "      <td>0</td>\n",
              "      <td>0</td>\n",
              "      <td>0</td>\n",
              "      <td>0</td>\n",
              "      <td>0</td>\n",
              "      <td>0</td>\n",
              "      <td>0</td>\n",
              "      <td>0</td>\n",
              "      <td>0</td>\n",
              "      <td>0</td>\n",
              "      <td>0</td>\n",
              "      <td>0</td>\n",
              "      <td>...</td>\n",
              "      <td>0</td>\n",
              "      <td>0</td>\n",
              "      <td>0</td>\n",
              "      <td>0</td>\n",
              "      <td>0</td>\n",
              "      <td>0</td>\n",
              "      <td>0</td>\n",
              "      <td>0</td>\n",
              "      <td>0</td>\n",
              "      <td>0</td>\n",
              "      <td>0</td>\n",
              "      <td>0</td>\n",
              "      <td>0</td>\n",
              "      <td>0</td>\n",
              "      <td>0</td>\n",
              "      <td>0</td>\n",
              "      <td>0</td>\n",
              "      <td>0</td>\n",
              "      <td>0</td>\n",
              "      <td>0</td>\n",
              "      <td>0</td>\n",
              "      <td>0</td>\n",
              "      <td>0</td>\n",
              "      <td>0</td>\n",
              "      <td>0</td>\n",
              "      <td>0</td>\n",
              "      <td>0</td>\n",
              "      <td>0</td>\n",
              "      <td>0</td>\n",
              "      <td>0</td>\n",
              "      <td>0</td>\n",
              "      <td>0</td>\n",
              "      <td>0</td>\n",
              "      <td>0</td>\n",
              "      <td>0</td>\n",
              "      <td>0</td>\n",
              "      <td>0</td>\n",
              "      <td>0</td>\n",
              "      <td>0</td>\n",
              "      <td>0</td>\n",
              "    </tr>\n",
              "    <tr>\n",
              "      <th>1</th>\n",
              "      <td>Hyundai Creta 1.6 CRDi SX Option</td>\n",
              "      <td>10</td>\n",
              "      <td>2015.0</td>\n",
              "      <td>10.621327</td>\n",
              "      <td>1</td>\n",
              "      <td>1</td>\n",
              "      <td>0</td>\n",
              "      <td>19.67</td>\n",
              "      <td>1582.0</td>\n",
              "      <td>126.20</td>\n",
              "      <td>5.0</td>\n",
              "      <td>12.50</td>\n",
              "      <td>0</td>\n",
              "      <td>0</td>\n",
              "      <td>0</td>\n",
              "      <td>0</td>\n",
              "      <td>0</td>\n",
              "      <td>0</td>\n",
              "      <td>0</td>\n",
              "      <td>0</td>\n",
              "      <td>0</td>\n",
              "      <td>0</td>\n",
              "      <td>0</td>\n",
              "      <td>0</td>\n",
              "      <td>0</td>\n",
              "      <td>0</td>\n",
              "      <td>0</td>\n",
              "      <td>0</td>\n",
              "      <td>0</td>\n",
              "      <td>0</td>\n",
              "      <td>0</td>\n",
              "      <td>0</td>\n",
              "      <td>0</td>\n",
              "      <td>0</td>\n",
              "      <td>0</td>\n",
              "      <td>0</td>\n",
              "      <td>0</td>\n",
              "      <td>0</td>\n",
              "      <td>0</td>\n",
              "      <td>0</td>\n",
              "      <td>...</td>\n",
              "      <td>0</td>\n",
              "      <td>0</td>\n",
              "      <td>0</td>\n",
              "      <td>0</td>\n",
              "      <td>0</td>\n",
              "      <td>0</td>\n",
              "      <td>0</td>\n",
              "      <td>0</td>\n",
              "      <td>0</td>\n",
              "      <td>0</td>\n",
              "      <td>0</td>\n",
              "      <td>0</td>\n",
              "      <td>0</td>\n",
              "      <td>0</td>\n",
              "      <td>0</td>\n",
              "      <td>0</td>\n",
              "      <td>0</td>\n",
              "      <td>0</td>\n",
              "      <td>0</td>\n",
              "      <td>0</td>\n",
              "      <td>0</td>\n",
              "      <td>0</td>\n",
              "      <td>0</td>\n",
              "      <td>0</td>\n",
              "      <td>0</td>\n",
              "      <td>0</td>\n",
              "      <td>0</td>\n",
              "      <td>0</td>\n",
              "      <td>0</td>\n",
              "      <td>0</td>\n",
              "      <td>0</td>\n",
              "      <td>0</td>\n",
              "      <td>0</td>\n",
              "      <td>0</td>\n",
              "      <td>0</td>\n",
              "      <td>0</td>\n",
              "      <td>0</td>\n",
              "      <td>0</td>\n",
              "      <td>0</td>\n",
              "      <td>0</td>\n",
              "    </tr>\n",
              "    <tr>\n",
              "      <th>2</th>\n",
              "      <td>Honda Jazz V</td>\n",
              "      <td>2</td>\n",
              "      <td>2011.0</td>\n",
              "      <td>10.736397</td>\n",
              "      <td>4</td>\n",
              "      <td>1</td>\n",
              "      <td>0</td>\n",
              "      <td>18.20</td>\n",
              "      <td>1199.0</td>\n",
              "      <td>88.70</td>\n",
              "      <td>5.0</td>\n",
              "      <td>4.50</td>\n",
              "      <td>0</td>\n",
              "      <td>0</td>\n",
              "      <td>0</td>\n",
              "      <td>0</td>\n",
              "      <td>0</td>\n",
              "      <td>0</td>\n",
              "      <td>0</td>\n",
              "      <td>0</td>\n",
              "      <td>0</td>\n",
              "      <td>0</td>\n",
              "      <td>0</td>\n",
              "      <td>0</td>\n",
              "      <td>0</td>\n",
              "      <td>0</td>\n",
              "      <td>0</td>\n",
              "      <td>0</td>\n",
              "      <td>0</td>\n",
              "      <td>0</td>\n",
              "      <td>0</td>\n",
              "      <td>0</td>\n",
              "      <td>0</td>\n",
              "      <td>0</td>\n",
              "      <td>0</td>\n",
              "      <td>0</td>\n",
              "      <td>0</td>\n",
              "      <td>0</td>\n",
              "      <td>0</td>\n",
              "      <td>0</td>\n",
              "      <td>...</td>\n",
              "      <td>0</td>\n",
              "      <td>0</td>\n",
              "      <td>0</td>\n",
              "      <td>0</td>\n",
              "      <td>0</td>\n",
              "      <td>0</td>\n",
              "      <td>0</td>\n",
              "      <td>0</td>\n",
              "      <td>0</td>\n",
              "      <td>0</td>\n",
              "      <td>0</td>\n",
              "      <td>0</td>\n",
              "      <td>0</td>\n",
              "      <td>0</td>\n",
              "      <td>0</td>\n",
              "      <td>0</td>\n",
              "      <td>0</td>\n",
              "      <td>0</td>\n",
              "      <td>0</td>\n",
              "      <td>0</td>\n",
              "      <td>0</td>\n",
              "      <td>0</td>\n",
              "      <td>0</td>\n",
              "      <td>0</td>\n",
              "      <td>0</td>\n",
              "      <td>0</td>\n",
              "      <td>0</td>\n",
              "      <td>0</td>\n",
              "      <td>0</td>\n",
              "      <td>0</td>\n",
              "      <td>0</td>\n",
              "      <td>0</td>\n",
              "      <td>0</td>\n",
              "      <td>0</td>\n",
              "      <td>0</td>\n",
              "      <td>0</td>\n",
              "      <td>0</td>\n",
              "      <td>0</td>\n",
              "      <td>0</td>\n",
              "      <td>0</td>\n",
              "    </tr>\n",
              "    <tr>\n",
              "      <th>3</th>\n",
              "      <td>Maruti Ertiga VDI</td>\n",
              "      <td>2</td>\n",
              "      <td>2012.0</td>\n",
              "      <td>11.373663</td>\n",
              "      <td>1</td>\n",
              "      <td>1</td>\n",
              "      <td>0</td>\n",
              "      <td>20.77</td>\n",
              "      <td>1248.0</td>\n",
              "      <td>88.76</td>\n",
              "      <td>7.0</td>\n",
              "      <td>6.00</td>\n",
              "      <td>0</td>\n",
              "      <td>0</td>\n",
              "      <td>0</td>\n",
              "      <td>0</td>\n",
              "      <td>0</td>\n",
              "      <td>0</td>\n",
              "      <td>0</td>\n",
              "      <td>0</td>\n",
              "      <td>0</td>\n",
              "      <td>0</td>\n",
              "      <td>0</td>\n",
              "      <td>0</td>\n",
              "      <td>0</td>\n",
              "      <td>0</td>\n",
              "      <td>0</td>\n",
              "      <td>0</td>\n",
              "      <td>0</td>\n",
              "      <td>0</td>\n",
              "      <td>0</td>\n",
              "      <td>0</td>\n",
              "      <td>0</td>\n",
              "      <td>0</td>\n",
              "      <td>0</td>\n",
              "      <td>0</td>\n",
              "      <td>0</td>\n",
              "      <td>0</td>\n",
              "      <td>0</td>\n",
              "      <td>0</td>\n",
              "      <td>...</td>\n",
              "      <td>0</td>\n",
              "      <td>0</td>\n",
              "      <td>0</td>\n",
              "      <td>0</td>\n",
              "      <td>0</td>\n",
              "      <td>0</td>\n",
              "      <td>0</td>\n",
              "      <td>0</td>\n",
              "      <td>0</td>\n",
              "      <td>0</td>\n",
              "      <td>0</td>\n",
              "      <td>0</td>\n",
              "      <td>0</td>\n",
              "      <td>0</td>\n",
              "      <td>0</td>\n",
              "      <td>0</td>\n",
              "      <td>0</td>\n",
              "      <td>0</td>\n",
              "      <td>0</td>\n",
              "      <td>0</td>\n",
              "      <td>0</td>\n",
              "      <td>0</td>\n",
              "      <td>0</td>\n",
              "      <td>0</td>\n",
              "      <td>0</td>\n",
              "      <td>0</td>\n",
              "      <td>0</td>\n",
              "      <td>0</td>\n",
              "      <td>0</td>\n",
              "      <td>0</td>\n",
              "      <td>0</td>\n",
              "      <td>0</td>\n",
              "      <td>0</td>\n",
              "      <td>0</td>\n",
              "      <td>0</td>\n",
              "      <td>0</td>\n",
              "      <td>0</td>\n",
              "      <td>0</td>\n",
              "      <td>0</td>\n",
              "      <td>0</td>\n",
              "    </tr>\n",
              "    <tr>\n",
              "      <th>4</th>\n",
              "      <td>Audi A4 New 2.0 TDI Multitronic</td>\n",
              "      <td>3</td>\n",
              "      <td>2013.0</td>\n",
              "      <td>10.613246</td>\n",
              "      <td>1</td>\n",
              "      <td>0</td>\n",
              "      <td>2</td>\n",
              "      <td>15.20</td>\n",
              "      <td>1968.0</td>\n",
              "      <td>140.80</td>\n",
              "      <td>5.0</td>\n",
              "      <td>17.74</td>\n",
              "      <td>0</td>\n",
              "      <td>0</td>\n",
              "      <td>0</td>\n",
              "      <td>0</td>\n",
              "      <td>0</td>\n",
              "      <td>0</td>\n",
              "      <td>0</td>\n",
              "      <td>0</td>\n",
              "      <td>0</td>\n",
              "      <td>0</td>\n",
              "      <td>0</td>\n",
              "      <td>0</td>\n",
              "      <td>0</td>\n",
              "      <td>0</td>\n",
              "      <td>0</td>\n",
              "      <td>0</td>\n",
              "      <td>0</td>\n",
              "      <td>0</td>\n",
              "      <td>0</td>\n",
              "      <td>0</td>\n",
              "      <td>0</td>\n",
              "      <td>0</td>\n",
              "      <td>1</td>\n",
              "      <td>0</td>\n",
              "      <td>0</td>\n",
              "      <td>0</td>\n",
              "      <td>0</td>\n",
              "      <td>0</td>\n",
              "      <td>...</td>\n",
              "      <td>0</td>\n",
              "      <td>0</td>\n",
              "      <td>0</td>\n",
              "      <td>0</td>\n",
              "      <td>0</td>\n",
              "      <td>0</td>\n",
              "      <td>0</td>\n",
              "      <td>0</td>\n",
              "      <td>0</td>\n",
              "      <td>0</td>\n",
              "      <td>0</td>\n",
              "      <td>0</td>\n",
              "      <td>0</td>\n",
              "      <td>0</td>\n",
              "      <td>0</td>\n",
              "      <td>0</td>\n",
              "      <td>0</td>\n",
              "      <td>0</td>\n",
              "      <td>0</td>\n",
              "      <td>0</td>\n",
              "      <td>0</td>\n",
              "      <td>0</td>\n",
              "      <td>0</td>\n",
              "      <td>0</td>\n",
              "      <td>0</td>\n",
              "      <td>0</td>\n",
              "      <td>0</td>\n",
              "      <td>0</td>\n",
              "      <td>0</td>\n",
              "      <td>0</td>\n",
              "      <td>0</td>\n",
              "      <td>0</td>\n",
              "      <td>0</td>\n",
              "      <td>0</td>\n",
              "      <td>0</td>\n",
              "      <td>0</td>\n",
              "      <td>0</td>\n",
              "      <td>0</td>\n",
              "      <td>0</td>\n",
              "      <td>0</td>\n",
              "    </tr>\n",
              "  </tbody>\n",
              "</table>\n",
              "<p>5 rows × 1887 columns</p>\n",
              "</div>"
            ],
            "text/plain": [
              "                               Name  ...  Volvo XC90 2007-2015 D5 AWD\n",
              "0            Maruti Wagon R LXI CNG  ...                            0\n",
              "1  Hyundai Creta 1.6 CRDi SX Option  ...                            0\n",
              "2                      Honda Jazz V  ...                            0\n",
              "3                 Maruti Ertiga VDI  ...                            0\n",
              "4   Audi A4 New 2.0 TDI Multitronic  ...                            0\n",
              "\n",
              "[5 rows x 1887 columns]"
            ]
          },
          "metadata": {
            "tags": []
          },
          "execution_count": 48
        }
      ]
    },
    {
      "cell_type": "code",
      "metadata": {
        "id": "aKPLNbzr5Vdd",
        "colab_type": "code",
        "colab": {}
      },
      "source": [
        "X= df.drop([\"Price\", \"Name\"], axis = 1) #independent variables\n",
        "y = df[\"Price\"] #target feature"
      ],
      "execution_count": 49,
      "outputs": []
    },
    {
      "cell_type": "code",
      "metadata": {
        "id": "jZMfeCmR5gCE",
        "colab_type": "code",
        "colab": {}
      },
      "source": [
        "#train test split into 70:30 ratio\n",
        "X_train, X_test, y_train, y_test = train_test_split(X, y, test_size=0.3)"
      ],
      "execution_count": 50,
      "outputs": []
    },
    {
      "cell_type": "markdown",
      "metadata": {
        "id": "8gtdYDLG5rjP",
        "colab_type": "text"
      },
      "source": [
        "**Gradient Boost**"
      ]
    },
    {
      "cell_type": "code",
      "metadata": {
        "id": "zFDLLiGG5n00",
        "colab_type": "code",
        "colab": {
          "base_uri": "https://localhost:8080/",
          "height": 163
        },
        "outputId": "543a2b5c-49e5-4e22-f5ac-074e11bd63c8"
      },
      "source": [
        "model = GradientBoostingRegressor()\n",
        "model.fit(X_train, y_train)"
      ],
      "execution_count": 51,
      "outputs": [
        {
          "output_type": "execute_result",
          "data": {
            "text/plain": [
              "GradientBoostingRegressor(alpha=0.9, ccp_alpha=0.0, criterion='friedman_mse',\n",
              "                          init=None, learning_rate=0.1, loss='ls', max_depth=3,\n",
              "                          max_features=None, max_leaf_nodes=None,\n",
              "                          min_impurity_decrease=0.0, min_impurity_split=None,\n",
              "                          min_samples_leaf=1, min_samples_split=2,\n",
              "                          min_weight_fraction_leaf=0.0, n_estimators=100,\n",
              "                          n_iter_no_change=None, presort='deprecated',\n",
              "                          random_state=None, subsample=1.0, tol=0.0001,\n",
              "                          validation_fraction=0.1, verbose=0, warm_start=False)"
            ]
          },
          "metadata": {
            "tags": []
          },
          "execution_count": 51
        }
      ]
    },
    {
      "cell_type": "code",
      "metadata": {
        "id": "4Q_jZDMD6_OZ",
        "colab_type": "code",
        "colab": {}
      },
      "source": [
        "y_pred = model.predict(X_test)\n"
      ],
      "execution_count": 52,
      "outputs": []
    },
    {
      "cell_type": "code",
      "metadata": {
        "id": "XhBZOrs17Ev3",
        "colab_type": "code",
        "colab": {
          "base_uri": "https://localhost:8080/",
          "height": 33
        },
        "outputId": "013f5232-8e2f-48aa-b262-098f3e6adeac"
      },
      "source": [
        "model.score(X_train, y_train)"
      ],
      "execution_count": 53,
      "outputs": [
        {
          "output_type": "execute_result",
          "data": {
            "text/plain": [
              "0.9271177771677538"
            ]
          },
          "metadata": {
            "tags": []
          },
          "execution_count": 53
        }
      ]
    },
    {
      "cell_type": "code",
      "metadata": {
        "id": "2dY11d2e7JtP",
        "colab_type": "code",
        "colab": {
          "base_uri": "https://localhost:8080/",
          "height": 33
        },
        "outputId": "0efeee99-fded-426c-86fa-c003df1f8d7a"
      },
      "source": [
        "model.score(X_test, y_test)"
      ],
      "execution_count": 54,
      "outputs": [
        {
          "output_type": "execute_result",
          "data": {
            "text/plain": [
              "0.9061765226542545"
            ]
          },
          "metadata": {
            "tags": []
          },
          "execution_count": 54
        }
      ]
    },
    {
      "cell_type": "code",
      "metadata": {
        "id": "TtBj7p-G7MjA",
        "colab_type": "code",
        "colab": {
          "base_uri": "https://localhost:8080/",
          "height": 66
        },
        "outputId": "3fc1adb6-d643-4d44-fd26-b18568112224"
      },
      "source": [
        "#Metrics for evaluating parameters\n",
        "print('MAE:', metrics.mean_absolute_error(y_test, y_pred))\n",
        "print('MSE:', metrics.mean_squared_error(y_test, y_pred))\n",
        "print('RMSE:', np.sqrt(metrics.mean_squared_error(y_test, y_pred)))"
      ],
      "execution_count": 55,
      "outputs": [
        {
          "output_type": "stream",
          "text": [
            "MAE: 1.2455675218551343\n",
            "MSE: 3.6801092761563226\n",
            "RMSE: 1.9183610911807825\n"
          ],
          "name": "stdout"
        }
      ]
    },
    {
      "cell_type": "markdown",
      "metadata": {
        "id": "-1hgnaTf9VWY",
        "colab_type": "text"
      },
      "source": [
        "**Random Forest Regressor**"
      ]
    },
    {
      "cell_type": "code",
      "metadata": {
        "id": "1CCSEjpF9SA0",
        "colab_type": "code",
        "colab": {
          "base_uri": "https://localhost:8080/",
          "height": 131
        },
        "outputId": "dc88f961-a8cf-4ea5-aee0-39fd96ed014e"
      },
      "source": [
        "model1 = RandomForestRegressor()\n",
        "model1.fit(X_train, y_train)"
      ],
      "execution_count": 56,
      "outputs": [
        {
          "output_type": "execute_result",
          "data": {
            "text/plain": [
              "RandomForestRegressor(bootstrap=True, ccp_alpha=0.0, criterion='mse',\n",
              "                      max_depth=None, max_features='auto', max_leaf_nodes=None,\n",
              "                      max_samples=None, min_impurity_decrease=0.0,\n",
              "                      min_impurity_split=None, min_samples_leaf=1,\n",
              "                      min_samples_split=2, min_weight_fraction_leaf=0.0,\n",
              "                      n_estimators=100, n_jobs=None, oob_score=False,\n",
              "                      random_state=None, verbose=0, warm_start=False)"
            ]
          },
          "metadata": {
            "tags": []
          },
          "execution_count": 56
        }
      ]
    },
    {
      "cell_type": "code",
      "metadata": {
        "id": "kBrLS6ga94Bt",
        "colab_type": "code",
        "colab": {}
      },
      "source": [
        "y_pred_Rf = model1.predict(X_test)"
      ],
      "execution_count": 57,
      "outputs": []
    },
    {
      "cell_type": "code",
      "metadata": {
        "id": "v5KH81HA986A",
        "colab_type": "code",
        "colab": {
          "base_uri": "https://localhost:8080/",
          "height": 33
        },
        "outputId": "8e1528fc-6581-43b8-c59c-99ef1acdf904"
      },
      "source": [
        "#Performance of model on train data\n",
        "model1.score(X_train, y_train)"
      ],
      "execution_count": 58,
      "outputs": [
        {
          "output_type": "execute_result",
          "data": {
            "text/plain": [
              "0.989143441048792"
            ]
          },
          "metadata": {
            "tags": []
          },
          "execution_count": 58
        }
      ]
    },
    {
      "cell_type": "code",
      "metadata": {
        "id": "VIu8FK_d-A4_",
        "colab_type": "code",
        "colab": {
          "base_uri": "https://localhost:8080/",
          "height": 33
        },
        "outputId": "3f494012-4143-4ec4-86b0-12308390cdde"
      },
      "source": [
        "model1.score(X_test, y_test)"
      ],
      "execution_count": 59,
      "outputs": [
        {
          "output_type": "execute_result",
          "data": {
            "text/plain": [
              "0.9298235213481054"
            ]
          },
          "metadata": {
            "tags": []
          },
          "execution_count": 59
        }
      ]
    },
    {
      "cell_type": "code",
      "metadata": {
        "id": "xFmqo-PI-FP3",
        "colab_type": "code",
        "colab": {
          "base_uri": "https://localhost:8080/",
          "height": 66
        },
        "outputId": "a6683c0b-87e3-43f9-b79d-5f25de58dbc1"
      },
      "source": [
        "print('MAE:', metrics.mean_absolute_error(y_test, y_pred_Rf))\n",
        "print('MSE:', metrics.mean_squared_error(y_test, y_pred_Rf))\n",
        "print('RMSE:', np.sqrt(metrics.mean_squared_error(y_test, y_pred_Rf)))"
      ],
      "execution_count": 60,
      "outputs": [
        {
          "output_type": "stream",
          "text": [
            "MAE: 0.9234342456362393\n",
            "MSE: 2.7525851456467527\n",
            "RMSE: 1.6590916628223868\n"
          ],
          "name": "stdout"
        }
      ]
    },
    {
      "cell_type": "markdown",
      "metadata": {
        "id": "w67ejFp1-RA7",
        "colab_type": "text"
      },
      "source": [
        "**XG Boost**"
      ]
    },
    {
      "cell_type": "code",
      "metadata": {
        "id": "wVAkSegf-LMG",
        "colab_type": "code",
        "colab": {
          "base_uri": "https://localhost:8080/",
          "height": 147
        },
        "outputId": "62955f98-1f80-4b72-ebc7-0aa5fe9ffad8"
      },
      "source": [
        "xgr = XGBRegressor()\n",
        "\n",
        "xgr.fit(X_train, y_train)"
      ],
      "execution_count": 61,
      "outputs": [
        {
          "output_type": "stream",
          "text": [
            "[22:09:28] WARNING: /workspace/src/objective/regression_obj.cu:152: reg:linear is now deprecated in favor of reg:squarederror.\n"
          ],
          "name": "stdout"
        },
        {
          "output_type": "execute_result",
          "data": {
            "text/plain": [
              "XGBRegressor(base_score=0.5, booster='gbtree', colsample_bylevel=1,\n",
              "             colsample_bynode=1, colsample_bytree=1, gamma=0,\n",
              "             importance_type='gain', learning_rate=0.1, max_delta_step=0,\n",
              "             max_depth=3, min_child_weight=1, missing=None, n_estimators=100,\n",
              "             n_jobs=1, nthread=None, objective='reg:linear', random_state=0,\n",
              "             reg_alpha=0, reg_lambda=1, scale_pos_weight=1, seed=None,\n",
              "             silent=None, subsample=1, verbosity=1)"
            ]
          },
          "metadata": {
            "tags": []
          },
          "execution_count": 61
        }
      ]
    },
    {
      "cell_type": "code",
      "metadata": {
        "id": "3w-Z8O1X-gXJ",
        "colab_type": "code",
        "colab": {}
      },
      "source": [
        "y_pred_xgr = xgr.predict(X_test)"
      ],
      "execution_count": 62,
      "outputs": []
    },
    {
      "cell_type": "code",
      "metadata": {
        "id": "cjDndljb-kkE",
        "colab_type": "code",
        "colab": {
          "base_uri": "https://localhost:8080/",
          "height": 33
        },
        "outputId": "70960bbf-35e3-4d75-d81f-c0c300e083ee"
      },
      "source": [
        "xgr.score(X_train,y_train)"
      ],
      "execution_count": 63,
      "outputs": [
        {
          "output_type": "execute_result",
          "data": {
            "text/plain": [
              "0.922862802878788"
            ]
          },
          "metadata": {
            "tags": []
          },
          "execution_count": 63
        }
      ]
    },
    {
      "cell_type": "code",
      "metadata": {
        "id": "ifiD0ZAy-oQN",
        "colab_type": "code",
        "colab": {
          "base_uri": "https://localhost:8080/",
          "height": 33
        },
        "outputId": "20be06b5-e424-4178-e27f-2314da4abe5c"
      },
      "source": [
        "xgr.score(X_test,y_test)"
      ],
      "execution_count": 64,
      "outputs": [
        {
          "output_type": "execute_result",
          "data": {
            "text/plain": [
              "0.9033595051834609"
            ]
          },
          "metadata": {
            "tags": []
          },
          "execution_count": 64
        }
      ]
    },
    {
      "cell_type": "code",
      "metadata": {
        "id": "6PhZInQ_-rTy",
        "colab_type": "code",
        "colab": {
          "base_uri": "https://localhost:8080/",
          "height": 66
        },
        "outputId": "dd95a8ab-a8a7-4b42-85c8-87f32b711081"
      },
      "source": [
        "print('MAE:', metrics.mean_absolute_error(y_test, y_pred_xgr))\n",
        "print('MSE:', metrics.mean_squared_error(y_test, y_pred_xgr))\n",
        "print('RMSE:', np.sqrt(metrics.mean_squared_error(y_test, y_pred_xgr)))"
      ],
      "execution_count": 65,
      "outputs": [
        {
          "output_type": "stream",
          "text": [
            "MAE: 1.2545211337254296\n",
            "MSE: 3.79060328489104\n",
            "RMSE: 1.94694717054445\n"
          ],
          "name": "stdout"
        }
      ]
    },
    {
      "cell_type": "markdown",
      "metadata": {
        "id": "gVEeccfQ-1Sl",
        "colab_type": "text"
      },
      "source": [
        "**Extra Trees Regressor**\n"
      ]
    },
    {
      "cell_type": "code",
      "metadata": {
        "id": "z3evZ8Xt-yJy",
        "colab_type": "code",
        "colab": {}
      },
      "source": [
        "reg = ExtraTreesRegressor(n_estimators=100, random_state=42).fit(X_train, y_train)"
      ],
      "execution_count": 66,
      "outputs": []
    },
    {
      "cell_type": "code",
      "metadata": {
        "id": "TQ8XhuoN_Jjb",
        "colab_type": "code",
        "colab": {
          "base_uri": "https://localhost:8080/",
          "height": 33
        },
        "outputId": "a1c72eae-b5ac-4900-d4a7-b6f5ba97f84e"
      },
      "source": [
        "reg.score(X_train, y_train)"
      ],
      "execution_count": 67,
      "outputs": [
        {
          "output_type": "execute_result",
          "data": {
            "text/plain": [
              "0.9999914831699331"
            ]
          },
          "metadata": {
            "tags": []
          },
          "execution_count": 67
        }
      ]
    },
    {
      "cell_type": "code",
      "metadata": {
        "id": "qQLcbBMI_L0P",
        "colab_type": "code",
        "colab": {
          "base_uri": "https://localhost:8080/",
          "height": 33
        },
        "outputId": "c24c4534-1dc9-4bdf-ce81-f42c96691c23"
      },
      "source": [
        "reg.score(X_test, y_test)"
      ],
      "execution_count": 68,
      "outputs": [
        {
          "output_type": "execute_result",
          "data": {
            "text/plain": [
              "0.9290614533575312"
            ]
          },
          "metadata": {
            "tags": []
          },
          "execution_count": 68
        }
      ]
    },
    {
      "cell_type": "code",
      "metadata": {
        "id": "DfF6e2IH_O_5",
        "colab_type": "code",
        "colab": {}
      },
      "source": [
        "r_pred = reg.predict(X_test)"
      ],
      "execution_count": 69,
      "outputs": []
    },
    {
      "cell_type": "code",
      "metadata": {
        "id": "AEy0OBCf_Scx",
        "colab_type": "code",
        "colab": {
          "base_uri": "https://localhost:8080/",
          "height": 66
        },
        "outputId": "47fe2e21-5302-4bb2-f0ad-f75234b25050"
      },
      "source": [
        "print('MAE:', metrics.mean_absolute_error(y_test, r_pred))\n",
        "print('MSE:', metrics.mean_squared_error(y_test, r_pred))\n",
        "print('RMSE:', np.sqrt(metrics.mean_squared_error(y_test, r_pred)))"
      ],
      "execution_count": 70,
      "outputs": [
        {
          "output_type": "stream",
          "text": [
            "MAE: 0.9101157530454047\n",
            "MSE: 2.782476315325304\n",
            "RMSE: 1.6680756323756138\n"
          ],
          "name": "stdout"
        }
      ]
    },
    {
      "cell_type": "markdown",
      "metadata": {
        "id": "j6qfdkcD_c4G",
        "colab_type": "text"
      },
      "source": [
        "**Conclusion:**\n",
        "After training the above models, Extra trees regressor is having a leasr RMSE, MSE, MAE score with a good accuracy of 92% on our test data."
      ]
    }
  ]
}